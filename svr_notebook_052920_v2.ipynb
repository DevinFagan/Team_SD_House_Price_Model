{
 "cells": [
  {
   "cell_type": "markdown",
   "metadata": {},
   "source": [
    "command to be able to import modules and have it refresh if they get changed"
   ]
  },
  {
   "cell_type": "code",
   "execution_count": 1,
   "metadata": {},
   "outputs": [],
   "source": [
    "%load_ext autoreload\n",
    "%autoreload 2"
   ]
  },
  {
   "cell_type": "markdown",
   "metadata": {},
   "source": [
    "import our preprocessing fxns, sklearn, pandas and matplotlib."
   ]
  },
  {
   "cell_type": "code",
   "execution_count": 2,
   "metadata": {},
   "outputs": [],
   "source": [
    "from ordinal_ranker import *\n",
    "from fillna import *\n",
    "import pandas as pd\n",
    "import numpy as np\n",
    "import statistics\n",
    "from sklearn import preprocessing\n",
    "from sklearn.svm import SVR\n",
    "from sklearn import model_selection as ms\n",
    "from sklearn import datasets\n",
    "import matplotlib\n",
    "from matplotlib import pyplot as plt\n",
    "plt.style.use('ggplot')\n",
    "matplotlib.rc('figure', figsize=(6, 6))"
   ]
  },
  {
   "cell_type": "markdown",
   "metadata": {},
   "source": [
    "read in data.  don't really need sample_submission, but it makes the two files the same shape.  combine them so any transformations, dummifications happen to both."
   ]
  },
  {
   "cell_type": "code",
   "execution_count": 3,
   "metadata": {},
   "outputs": [],
   "source": [
    "house_price = pd.read_csv('train.csv')\n",
    "house_sub = pd.read_csv('test.csv')\n",
    "sub_ys=pd.read_csv('sample_submission.csv')\n",
    "house_sub = pd.merge(house_sub,sub_ys,how = 'inner', on = 'Id')\n",
    "data = pd.concat([house_price, house_sub])"
   ]
  },
  {
   "cell_type": "markdown",
   "metadata": {},
   "source": [
    "proprocess data with overall fxn made of our fxns"
   ]
  },
  {
   "cell_type": "code",
   "execution_count": 4,
   "metadata": {},
   "outputs": [],
   "source": [
    "data = data_process(data)"
   ]
  },
  {
   "cell_type": "markdown",
   "metadata": {},
   "source": [
    "save it because I'm paranoid after we forgot to set the random seed"
   ]
  },
  {
   "cell_type": "code",
   "execution_count": 9,
   "metadata": {},
   "outputs": [],
   "source": [
    "data.to_csv('cleaned_all_data.csv')"
   ]
  },
  {
   "cell_type": "markdown",
   "metadata": {},
   "source": [
    "confirm it's the right shape, 180 columns with the sale price"
   ]
  },
  {
   "cell_type": "code",
   "execution_count": 10,
   "metadata": {},
   "outputs": [
    {
     "data": {
      "text/plain": [
       "(2919, 180)"
      ]
     },
     "execution_count": 10,
     "metadata": {},
     "output_type": "execute_result"
    }
   ],
   "source": [
    "data.shape"
   ]
  },
  {
   "cell_type": "markdown",
   "metadata": {},
   "source": [
    "split apart the big file, the first 1460 points were the training, the rest. the observations that need a predicted price."
   ]
  },
  {
   "cell_type": "code",
   "execution_count": 5,
   "metadata": {},
   "outputs": [],
   "source": [
    "train = data.iloc[:house_price.shape[0],:]\n",
    "sub = data.iloc[house_price.shape[0]:,:]"
   ]
  },
  {
   "cell_type": "markdown",
   "metadata": {},
   "source": [
    "confirm they're the same number of columns, because I'm paranoid"
   ]
  },
  {
   "cell_type": "code",
   "execution_count": 12,
   "metadata": {},
   "outputs": [
    {
     "data": {
      "text/plain": [
       "((1460, 180), (1459, 180))"
      ]
     },
     "execution_count": 12,
     "metadata": {},
     "output_type": "execute_result"
    }
   ],
   "source": [
    "train.shape,sub.shape"
   ]
  },
  {
   "cell_type": "markdown",
   "metadata": {},
   "source": [
    "break out the sale price for the train, drop the fake prices for the test set"
   ]
  },
  {
   "cell_type": "code",
   "execution_count": 6,
   "metadata": {},
   "outputs": [],
   "source": [
    "## separate the predictors and response in the training data set\n",
    "x_train = np.array(train.drop('SalePrice',axis=1))\n",
    "y_train = np.ravel(train['SalePrice'])\n",
    "## separate the predictors and response in the test data set\n",
    "x_sub = np.array(sub.drop('SalePrice',axis=1))"
   ]
  },
  {
   "cell_type": "markdown",
   "metadata": {},
   "source": [
    "confirm the training arrays have the same number of row, and 179 columns (because I'm paranoid.)"
   ]
  },
  {
   "cell_type": "code",
   "execution_count": 14,
   "metadata": {},
   "outputs": [
    {
     "data": {
      "text/plain": [
       "((1460,), (1460, 179))"
      ]
     },
     "execution_count": 14,
     "metadata": {},
     "output_type": "execute_result"
    }
   ],
   "source": [
    "y_train.shape,x_train.shape"
   ]
  },
  {
   "cell_type": "markdown",
   "metadata": {},
   "source": [
    "just confirming, again, that test has 179 columns. still paranoid."
   ]
  },
  {
   "cell_type": "code",
   "execution_count": 15,
   "metadata": {},
   "outputs": [
    {
     "data": {
      "text/plain": [
       "(1459, 179)"
      ]
     },
     "execution_count": 15,
     "metadata": {},
     "output_type": "execute_result"
    }
   ],
   "source": [
    "x_sub.shape"
   ]
  },
  {
   "cell_type": "markdown",
   "metadata": {},
   "source": [
    "Notice that there is a serious rightward skew of the sale price, so should take log"
   ]
  },
  {
   "cell_type": "code",
   "execution_count": 16,
   "metadata": {},
   "outputs": [
    {
     "data": {
      "text/plain": [
       "(array([148., 723., 373., 135.,  51.,  19.,   4.,   3.,   2.,   2.]),\n",
       " array([ 34900., 106910., 178920., 250930., 322940., 394950., 466960.,\n",
       "        538970., 610980., 682990., 755000.]),\n",
       " <a list of 10 Patch objects>)"
      ]
     },
     "execution_count": 16,
     "metadata": {},
     "output_type": "execute_result"
    },
    {
     "data": {
      "image/png": "[encoded data removed]",
      "text/plain": [
       "<Figure size 432x432 with 1 Axes>"
      ]
     },
     "metadata": {},
     "output_type": "display_data"
    }
   ],
   "source": [
    "plt.hist(y_train)"
   ]
  },
  {
   "cell_type": "markdown",
   "metadata": {},
   "source": [
    "much less skew after log transform of data"
   ]
  },
  {
   "cell_type": "code",
   "execution_count": 7,
   "metadata": {},
   "outputs": [
    {
     "data": {
      "text/plain": [
       "(array([  5.,  12.,  54., 184., 470., 400., 220.,  90.,  19.,   6.]),\n",
       " array([10.46024211, 10.7676652 , 11.07508829, 11.38251138, 11.68993448,\n",
       "        11.99735757, 12.30478066, 12.61220375, 12.91962684, 13.22704994,\n",
       "        13.53447303]),\n",
       " <a list of 10 Patch objects>)"
      ]
     },
     "execution_count": 7,
     "metadata": {},
     "output_type": "execute_result"
    },
    {
     "data": {
      "image/png": "[encoded data removed]",
      "text/plain": [
       "<Figure size 432x432 with 1 Axes>"
      ]
     },
     "metadata": {},
     "output_type": "display_data"
    }
   ],
   "source": [
    "y_train_log = np.log(y_train)\n",
    "plt.hist(y_train_log)"
   ]
  },
  {
   "cell_type": "markdown",
   "metadata": {},
   "source": [
    "I tried to use a minmax scaler to scale the features, but it didn't work on some columns for some reason.  fall back on basic method."
   ]
  },
  {
   "cell_type": "code",
   "execution_count": 8,
   "metadata": {},
   "outputs": [],
   "source": [
    "x_scaled = (x_train-x_train.min(axis=0))/(x_train.max(axis=0)-x_train.min(axis=0))"
   ]
  },
  {
   "cell_type": "code",
   "execution_count": 9,
   "metadata": {},
   "outputs": [],
   "source": [
    "x_sub_scaled = (x_sub-x_train.min(axis=0))/(x_train.max(axis=0)-x_train.min(axis=0))"
   ]
  },
  {
   "cell_type": "code",
   "execution_count": 16,
   "metadata": {},
   "outputs": [
    {
     "data": {
      "text/html": [
       "<div>\n",
       "<style scoped>\n",
       "    .dataframe tbody tr th:only-of-type {\n",
       "        vertical-align: middle;\n",
       "    }\n",
       "\n",
       "    .dataframe tbody tr th {\n",
       "        vertical-align: top;\n",
       "    }\n",
       "\n",
       "    .dataframe thead th {\n",
       "        text-align: right;\n",
       "    }\n",
       "</style>\n",
       "<table border=\"1\" class=\"dataframe\">\n",
       "  <thead>\n",
       "    <tr style=\"text-align: right;\">\n",
       "      <th></th>\n",
       "      <th>3</th>\n",
       "      <th>6</th>\n",
       "      <th>44</th>\n",
       "    </tr>\n",
       "  </thead>\n",
       "  <tbody>\n",
       "    <tr>\n",
       "      <th>count</th>\n",
       "      <td>1459.000000</td>\n",
       "      <td>1459.000000</td>\n",
       "      <td>1459.000000</td>\n",
       "    </tr>\n",
       "    <tr>\n",
       "      <th>mean</th>\n",
       "      <td>0.998286</td>\n",
       "      <td>0.561046</td>\n",
       "      <td>0.442426</td>\n",
       "    </tr>\n",
       "    <tr>\n",
       "      <th>std</th>\n",
       "      <td>0.046265</td>\n",
       "      <td>0.352174</td>\n",
       "      <td>0.325435</td>\n",
       "    </tr>\n",
       "    <tr>\n",
       "      <th>min</th>\n",
       "      <td>-0.250000</td>\n",
       "      <td>0.000000</td>\n",
       "      <td>0.000000</td>\n",
       "    </tr>\n",
       "    <tr>\n",
       "      <th>25%</th>\n",
       "      <td>1.000000</td>\n",
       "      <td>0.216667</td>\n",
       "      <td>0.250000</td>\n",
       "    </tr>\n",
       "    <tr>\n",
       "      <th>50%</th>\n",
       "      <td>1.000000</td>\n",
       "      <td>0.700000</td>\n",
       "      <td>0.500000</td>\n",
       "    </tr>\n",
       "    <tr>\n",
       "      <th>75%</th>\n",
       "      <td>1.000000</td>\n",
       "      <td>0.900000</td>\n",
       "      <td>0.750000</td>\n",
       "    </tr>\n",
       "    <tr>\n",
       "      <th>max</th>\n",
       "      <td>1.000000</td>\n",
       "      <td>1.000000</td>\n",
       "      <td>1.000000</td>\n",
       "    </tr>\n",
       "  </tbody>\n",
       "</table>\n",
       "</div>"
      ],
      "text/plain": [
       "                3            6            44\n",
       "count  1459.000000  1459.000000  1459.000000\n",
       "mean      0.998286     0.561046     0.442426\n",
       "std       0.046265     0.352174     0.325435\n",
       "min      -0.250000     0.000000     0.000000\n",
       "25%       1.000000     0.216667     0.250000\n",
       "50%       1.000000     0.700000     0.500000\n",
       "75%       1.000000     0.900000     0.750000\n",
       "max       1.000000     1.000000     1.000000"
      ]
     },
     "execution_count": 16,
     "metadata": {},
     "output_type": "execute_result"
    }
   ],
   "source": [
    "pd.DataFrame(x_sub_scaled)[[3,6,44]].describe()"
   ]
  },
  {
   "cell_type": "code",
   "execution_count": 17,
   "metadata": {},
   "outputs": [
    {
     "data": {
      "text/html": [
       "<div>\n",
       "<style scoped>\n",
       "    .dataframe tbody tr th:only-of-type {\n",
       "        vertical-align: middle;\n",
       "    }\n",
       "\n",
       "    .dataframe tbody tr th {\n",
       "        vertical-align: top;\n",
       "    }\n",
       "\n",
       "    .dataframe thead th {\n",
       "        text-align: right;\n",
       "    }\n",
       "</style>\n",
       "<table border=\"1\" class=\"dataframe\">\n",
       "  <thead>\n",
       "    <tr style=\"text-align: right;\">\n",
       "      <th></th>\n",
       "      <th>3</th>\n",
       "      <th>6</th>\n",
       "      <th>44</th>\n",
       "    </tr>\n",
       "  </thead>\n",
       "  <tbody>\n",
       "    <tr>\n",
       "      <th>count</th>\n",
       "      <td>1460.000000</td>\n",
       "      <td>1460.000000</td>\n",
       "      <td>1460.000000</td>\n",
       "    </tr>\n",
       "    <tr>\n",
       "      <th>mean</th>\n",
       "      <td>0.999315</td>\n",
       "      <td>0.581096</td>\n",
       "      <td>0.453938</td>\n",
       "    </tr>\n",
       "    <tr>\n",
       "      <th>std</th>\n",
       "      <td>0.026171</td>\n",
       "      <td>0.344090</td>\n",
       "      <td>0.332024</td>\n",
       "    </tr>\n",
       "    <tr>\n",
       "      <th>min</th>\n",
       "      <td>0.000000</td>\n",
       "      <td>0.000000</td>\n",
       "      <td>0.000000</td>\n",
       "    </tr>\n",
       "    <tr>\n",
       "      <th>25%</th>\n",
       "      <td>1.000000</td>\n",
       "      <td>0.283333</td>\n",
       "      <td>0.250000</td>\n",
       "    </tr>\n",
       "    <tr>\n",
       "      <th>50%</th>\n",
       "      <td>1.000000</td>\n",
       "      <td>0.733333</td>\n",
       "      <td>0.500000</td>\n",
       "    </tr>\n",
       "    <tr>\n",
       "      <th>75%</th>\n",
       "      <td>1.000000</td>\n",
       "      <td>0.900000</td>\n",
       "      <td>0.750000</td>\n",
       "    </tr>\n",
       "    <tr>\n",
       "      <th>max</th>\n",
       "      <td>1.000000</td>\n",
       "      <td>1.000000</td>\n",
       "      <td>1.000000</td>\n",
       "    </tr>\n",
       "  </tbody>\n",
       "</table>\n",
       "</div>"
      ],
      "text/plain": [
       "                3            6            44\n",
       "count  1460.000000  1460.000000  1460.000000\n",
       "mean      0.999315     0.581096     0.453938\n",
       "std       0.026171     0.344090     0.332024\n",
       "min       0.000000     0.000000     0.000000\n",
       "25%       1.000000     0.283333     0.250000\n",
       "50%       1.000000     0.733333     0.500000\n",
       "75%       1.000000     0.900000     0.750000\n",
       "max       1.000000     1.000000     1.000000"
      ]
     },
     "execution_count": 17,
     "metadata": {},
     "output_type": "execute_result"
    }
   ],
   "source": [
    "pd.DataFrame(x_scaled)[[3,6,44]].describe()"
   ]
  },
  {
   "cell_type": "markdown",
   "metadata": {},
   "source": [
    "set model from module"
   ]
  },
  {
   "cell_type": "code",
   "execution_count": 10,
   "metadata": {},
   "outputs": [],
   "source": [
    "svr = SVR()"
   ]
  },
  {
   "cell_type": "markdown",
   "metadata": {},
   "source": [
    "Here I attempt to do a semi-random cross-validation.  I noticed in the first test_train split that I did all my cross-validation on the set without the serious outlier.  So, I figured I would run multiple splits off a random interger that would set the random state for the split, so random on random. From this I would do a grid_search and pull the best parameters and then get the test r2 from those parameters.  Yes, in a sense I'm looking at my test data, but each model doesn't during cross-validation. Finally I take the median or mode of C and epsilon from the best parameters for each grid_search."
   ]
  },
  {
   "cell_type": "code",
   "execution_count": 44,
   "metadata": {},
   "outputs": [
    {
     "name": "stderr",
     "output_type": "stream",
     "text": [
      "/Users/doug/opt/anaconda3/lib/python3.7/site-packages/sklearn/model_selection/_search.py:823: FutureWarning: The parameter 'iid' is deprecated in 0.22 and will be removed in 0.24.\n",
      "  \"removed in 0.24.\", FutureWarning\n"
     ]
    },
    {
     "name": "stdout",
     "output_type": "stream",
     "text": [
      "830198 {'C': 0.1, 'epsilon': 0.04928571428571428, 'kernel': 'linear'} 0.9167 0.7607\n"
     ]
    },
    {
     "name": "stderr",
     "output_type": "stream",
     "text": [
      "/Users/doug/opt/anaconda3/lib/python3.7/site-packages/sklearn/model_selection/_search.py:823: FutureWarning: The parameter 'iid' is deprecated in 0.22 and will be removed in 0.24.\n",
      "  \"removed in 0.24.\", FutureWarning\n"
     ]
    },
    {
     "name": "stdout",
     "output_type": "stream",
     "text": [
      "70244 {'C': 0.06785714285714287, 'epsilon': 0.03, 'kernel': 'linear'} 0.8908 0.8665\n"
     ]
    },
    {
     "name": "stderr",
     "output_type": "stream",
     "text": [
      "/Users/doug/opt/anaconda3/lib/python3.7/site-packages/sklearn/model_selection/_search.py:823: FutureWarning: The parameter 'iid' is deprecated in 0.22 and will be removed in 0.24.\n",
      "  \"removed in 0.24.\", FutureWarning\n"
     ]
    },
    {
     "name": "stdout",
     "output_type": "stream",
     "text": [
      "725345 {'C': 0.04642857142857143, 'epsilon': 0.075, 'kernel': 'linear'} 0.8816 0.8963\n"
     ]
    },
    {
     "name": "stderr",
     "output_type": "stream",
     "text": [
      "/Users/doug/opt/anaconda3/lib/python3.7/site-packages/sklearn/model_selection/_search.py:823: FutureWarning: The parameter 'iid' is deprecated in 0.22 and will be removed in 0.24.\n",
      "  \"removed in 0.24.\", FutureWarning\n"
     ]
    },
    {
     "name": "stdout",
     "output_type": "stream",
     "text": [
      "218569 {'C': 0.1, 'epsilon': 0.055714285714285716, 'kernel': 'linear'} 0.9136 0.7635\n"
     ]
    },
    {
     "name": "stderr",
     "output_type": "stream",
     "text": [
      "/Users/doug/opt/anaconda3/lib/python3.7/site-packages/sklearn/model_selection/_search.py:823: FutureWarning: The parameter 'iid' is deprecated in 0.22 and will be removed in 0.24.\n",
      "  \"removed in 0.24.\", FutureWarning\n"
     ]
    },
    {
     "name": "stdout",
     "output_type": "stream",
     "text": [
      "717815 {'C': 0.04642857142857143, 'epsilon': 0.055714285714285716, 'kernel': 'linear'} 0.8865 0.8618\n"
     ]
    },
    {
     "name": "stderr",
     "output_type": "stream",
     "text": [
      "/Users/doug/opt/anaconda3/lib/python3.7/site-packages/sklearn/model_selection/_search.py:823: FutureWarning: The parameter 'iid' is deprecated in 0.22 and will be removed in 0.24.\n",
      "  \"removed in 0.24.\", FutureWarning\n"
     ]
    },
    {
     "name": "stdout",
     "output_type": "stream",
     "text": [
      "795923 {'C': 0.03571428571428572, 'epsilon': 0.04285714285714286, 'kernel': 'linear'} 0.8841 0.8708\n"
     ]
    },
    {
     "name": "stderr",
     "output_type": "stream",
     "text": [
      "/Users/doug/opt/anaconda3/lib/python3.7/site-packages/sklearn/model_selection/_search.py:823: FutureWarning: The parameter 'iid' is deprecated in 0.22 and will be removed in 0.24.\n",
      "  \"removed in 0.24.\", FutureWarning\n"
     ]
    },
    {
     "name": "stdout",
     "output_type": "stream",
     "text": [
      "61801 {'C': 0.04642857142857143, 'epsilon': 0.075, 'kernel': 'linear'} 0.8893 0.8635\n"
     ]
    },
    {
     "name": "stderr",
     "output_type": "stream",
     "text": [
      "/Users/doug/opt/anaconda3/lib/python3.7/site-packages/sklearn/model_selection/_search.py:823: FutureWarning: The parameter 'iid' is deprecated in 0.22 and will be removed in 0.24.\n",
      "  \"removed in 0.24.\", FutureWarning\n"
     ]
    },
    {
     "name": "stdout",
     "output_type": "stream",
     "text": [
      "584456 {'C': 0.03571428571428572, 'epsilon': 0.04285714285714286, 'kernel': 'linear'} 0.8891 0.8456\n"
     ]
    },
    {
     "name": "stderr",
     "output_type": "stream",
     "text": [
      "/Users/doug/opt/anaconda3/lib/python3.7/site-packages/sklearn/model_selection/_search.py:823: FutureWarning: The parameter 'iid' is deprecated in 0.22 and will be removed in 0.24.\n",
      "  \"removed in 0.24.\", FutureWarning\n"
     ]
    },
    {
     "name": "stdout",
     "output_type": "stream",
     "text": [
      "564866 {'C': 0.0892857142857143, 'epsilon': 0.06214285714285714, 'kernel': 'linear'} 0.8906 0.8762\n"
     ]
    },
    {
     "name": "stderr",
     "output_type": "stream",
     "text": [
      "/Users/doug/opt/anaconda3/lib/python3.7/site-packages/sklearn/model_selection/_search.py:823: FutureWarning: The parameter 'iid' is deprecated in 0.22 and will be removed in 0.24.\n",
      "  \"removed in 0.24.\", FutureWarning\n"
     ]
    },
    {
     "name": "stdout",
     "output_type": "stream",
     "text": [
      "999833 {'C': 0.04642857142857143, 'epsilon': 0.075, 'kernel': 'linear'} 0.8841 0.8942\n"
     ]
    },
    {
     "name": "stderr",
     "output_type": "stream",
     "text": [
      "/Users/doug/opt/anaconda3/lib/python3.7/site-packages/sklearn/model_selection/_search.py:823: FutureWarning: The parameter 'iid' is deprecated in 0.22 and will be removed in 0.24.\n",
      "  \"removed in 0.24.\", FutureWarning\n"
     ]
    },
    {
     "name": "stdout",
     "output_type": "stream",
     "text": [
      "944895 {'C': 0.05714285714285715, 'epsilon': 0.075, 'kernel': 'linear'} 0.8839 0.8993\n"
     ]
    },
    {
     "name": "stderr",
     "output_type": "stream",
     "text": [
      "/Users/doug/opt/anaconda3/lib/python3.7/site-packages/sklearn/model_selection/_search.py:823: FutureWarning: The parameter 'iid' is deprecated in 0.22 and will be removed in 0.24.\n",
      "  \"removed in 0.24.\", FutureWarning\n"
     ]
    },
    {
     "name": "stdout",
     "output_type": "stream",
     "text": [
      "492390 {'C': 0.1, 'epsilon': 0.075, 'kernel': 'linear'} 0.9136 0.7748\n"
     ]
    },
    {
     "name": "stderr",
     "output_type": "stream",
     "text": [
      "/Users/doug/opt/anaconda3/lib/python3.7/site-packages/sklearn/model_selection/_search.py:823: FutureWarning: The parameter 'iid' is deprecated in 0.22 and will be removed in 0.24.\n",
      "  \"removed in 0.24.\", FutureWarning\n"
     ]
    },
    {
     "name": "stdout",
     "output_type": "stream",
     "text": [
      "455321 {'C': 0.03571428571428572, 'epsilon': 0.055714285714285716, 'kernel': 'linear'} 0.8782 0.9028\n"
     ]
    },
    {
     "name": "stderr",
     "output_type": "stream",
     "text": [
      "/Users/doug/opt/anaconda3/lib/python3.7/site-packages/sklearn/model_selection/_search.py:823: FutureWarning: The parameter 'iid' is deprecated in 0.22 and will be removed in 0.24.\n",
      "  \"removed in 0.24.\", FutureWarning\n"
     ]
    },
    {
     "name": "stdout",
     "output_type": "stream",
     "text": [
      "262529 {'C': 0.0892857142857143, 'epsilon': 0.04285714285714286, 'kernel': 'linear'} 0.9121 0.7828\n"
     ]
    },
    {
     "name": "stderr",
     "output_type": "stream",
     "text": [
      "/Users/doug/opt/anaconda3/lib/python3.7/site-packages/sklearn/model_selection/_search.py:823: FutureWarning: The parameter 'iid' is deprecated in 0.22 and will be removed in 0.24.\n",
      "  \"removed in 0.24.\", FutureWarning\n"
     ]
    },
    {
     "name": "stdout",
     "output_type": "stream",
     "text": [
      "636139 {'C': 0.04642857142857143, 'epsilon': 0.055714285714285716, 'kernel': 'linear'} 0.8899 0.8612\n"
     ]
    },
    {
     "name": "stderr",
     "output_type": "stream",
     "text": [
      "/Users/doug/opt/anaconda3/lib/python3.7/site-packages/sklearn/model_selection/_search.py:823: FutureWarning: The parameter 'iid' is deprecated in 0.22 and will be removed in 0.24.\n",
      "  \"removed in 0.24.\", FutureWarning\n"
     ]
    },
    {
     "name": "stdout",
     "output_type": "stream",
     "text": [
      "532838 {'C': 0.1, 'epsilon': 0.06214285714285714, 'kernel': 'linear'} 0.8958 0.8433\n"
     ]
    },
    {
     "name": "stderr",
     "output_type": "stream",
     "text": [
      "/Users/doug/opt/anaconda3/lib/python3.7/site-packages/sklearn/model_selection/_search.py:823: FutureWarning: The parameter 'iid' is deprecated in 0.22 and will be removed in 0.24.\n",
      "  \"removed in 0.24.\", FutureWarning\n"
     ]
    },
    {
     "name": "stdout",
     "output_type": "stream",
     "text": [
      "146993 {'C': 0.04642857142857143, 'epsilon': 0.055714285714285716, 'kernel': 'linear'} 0.8891 0.8891\n"
     ]
    },
    {
     "name": "stderr",
     "output_type": "stream",
     "text": [
      "/Users/doug/opt/anaconda3/lib/python3.7/site-packages/sklearn/model_selection/_search.py:823: FutureWarning: The parameter 'iid' is deprecated in 0.22 and will be removed in 0.24.\n",
      "  \"removed in 0.24.\", FutureWarning\n"
     ]
    },
    {
     "name": "stdout",
     "output_type": "stream",
     "text": [
      "180631 {'C': 0.03571428571428572, 'epsilon': 0.04928571428571428, 'kernel': 'linear'} 0.8950 0.8327\n"
     ]
    },
    {
     "name": "stderr",
     "output_type": "stream",
     "text": [
      "/Users/doug/opt/anaconda3/lib/python3.7/site-packages/sklearn/model_selection/_search.py:823: FutureWarning: The parameter 'iid' is deprecated in 0.22 and will be removed in 0.24.\n",
      "  \"removed in 0.24.\", FutureWarning\n"
     ]
    },
    {
     "name": "stdout",
     "output_type": "stream",
     "text": [
      "948190 {'C': 0.05714285714285715, 'epsilon': 0.075, 'kernel': 'linear'} 0.8976 0.8264\n"
     ]
    },
    {
     "name": "stderr",
     "output_type": "stream",
     "text": [
      "/Users/doug/opt/anaconda3/lib/python3.7/site-packages/sklearn/model_selection/_search.py:823: FutureWarning: The parameter 'iid' is deprecated in 0.22 and will be removed in 0.24.\n",
      "  \"removed in 0.24.\", FutureWarning\n"
     ]
    },
    {
     "name": "stdout",
     "output_type": "stream",
     "text": [
      "168348 {'C': 0.04642857142857143, 'epsilon': 0.055714285714285716, 'kernel': 'linear'} 0.8826 0.9023\n"
     ]
    },
    {
     "name": "stderr",
     "output_type": "stream",
     "text": [
      "/Users/doug/opt/anaconda3/lib/python3.7/site-packages/sklearn/model_selection/_search.py:823: FutureWarning: The parameter 'iid' is deprecated in 0.22 and will be removed in 0.24.\n",
      "  \"removed in 0.24.\", FutureWarning\n"
     ]
    },
    {
     "name": "stdout",
     "output_type": "stream",
     "text": [
      "711374 {'C': 0.1, 'epsilon': 0.04928571428571428, 'kernel': 'linear'} 0.9126 0.7757\n"
     ]
    },
    {
     "name": "stderr",
     "output_type": "stream",
     "text": [
      "/Users/doug/opt/anaconda3/lib/python3.7/site-packages/sklearn/model_selection/_search.py:823: FutureWarning: The parameter 'iid' is deprecated in 0.22 and will be removed in 0.24.\n",
      "  \"removed in 0.24.\", FutureWarning\n"
     ]
    },
    {
     "name": "stdout",
     "output_type": "stream",
     "text": [
      "837889 {'C': 0.04642857142857143, 'epsilon': 0.06214285714285714, 'kernel': 'linear'} 0.8938 0.8437\n"
     ]
    },
    {
     "name": "stderr",
     "output_type": "stream",
     "text": [
      "/Users/doug/opt/anaconda3/lib/python3.7/site-packages/sklearn/model_selection/_search.py:823: FutureWarning: The parameter 'iid' is deprecated in 0.22 and will be removed in 0.24.\n",
      "  \"removed in 0.24.\", FutureWarning\n"
     ]
    },
    {
     "name": "stdout",
     "output_type": "stream",
     "text": [
      "200878 {'C': 0.04642857142857143, 'epsilon': 0.06214285714285714, 'kernel': 'linear'} 0.8854 0.8995\n"
     ]
    },
    {
     "name": "stderr",
     "output_type": "stream",
     "text": [
      "/Users/doug/opt/anaconda3/lib/python3.7/site-packages/sklearn/model_selection/_search.py:823: FutureWarning: The parameter 'iid' is deprecated in 0.22 and will be removed in 0.24.\n",
      "  \"removed in 0.24.\", FutureWarning\n"
     ]
    },
    {
     "name": "stdout",
     "output_type": "stream",
     "text": [
      "653139 {'C': 0.03571428571428572, 'epsilon': 0.075, 'kernel': 'linear'} 0.8941 0.8413\n"
     ]
    },
    {
     "name": "stderr",
     "output_type": "stream",
     "text": [
      "/Users/doug/opt/anaconda3/lib/python3.7/site-packages/sklearn/model_selection/_search.py:823: FutureWarning: The parameter 'iid' is deprecated in 0.22 and will be removed in 0.24.\n",
      "  \"removed in 0.24.\", FutureWarning\n"
     ]
    },
    {
     "name": "stdout",
     "output_type": "stream",
     "text": [
      "334959 {'C': 0.04642857142857143, 'epsilon': 0.06214285714285714, 'kernel': 'linear'} 0.8854 0.8844\n"
     ]
    },
    {
     "name": "stderr",
     "output_type": "stream",
     "text": [
      "/Users/doug/opt/anaconda3/lib/python3.7/site-packages/sklearn/model_selection/_search.py:823: FutureWarning: The parameter 'iid' is deprecated in 0.22 and will be removed in 0.24.\n",
      "  \"removed in 0.24.\", FutureWarning\n"
     ]
    },
    {
     "name": "stdout",
     "output_type": "stream",
     "text": [
      "388225 {'C': 0.04642857142857143, 'epsilon': 0.04928571428571428, 'kernel': 'linear'} 0.8826 0.8905\n"
     ]
    },
    {
     "name": "stderr",
     "output_type": "stream",
     "text": [
      "/Users/doug/opt/anaconda3/lib/python3.7/site-packages/sklearn/model_selection/_search.py:823: FutureWarning: The parameter 'iid' is deprecated in 0.22 and will be removed in 0.24.\n",
      "  \"removed in 0.24.\", FutureWarning\n"
     ]
    },
    {
     "name": "stdout",
     "output_type": "stream",
     "text": [
      "448524 {'C': 0.1, 'epsilon': 0.06214285714285714, 'kernel': 'linear'} 0.9257 0.6943\n"
     ]
    },
    {
     "name": "stderr",
     "output_type": "stream",
     "text": [
      "/Users/doug/opt/anaconda3/lib/python3.7/site-packages/sklearn/model_selection/_search.py:823: FutureWarning: The parameter 'iid' is deprecated in 0.22 and will be removed in 0.24.\n",
      "  \"removed in 0.24.\", FutureWarning\n"
     ]
    },
    {
     "name": "stdout",
     "output_type": "stream",
     "text": [
      "195474 {'C': 0.1, 'epsilon': 0.075, 'kernel': 'linear'} 0.9158 0.7805\n"
     ]
    },
    {
     "name": "stderr",
     "output_type": "stream",
     "text": [
      "/Users/doug/opt/anaconda3/lib/python3.7/site-packages/sklearn/model_selection/_search.py:823: FutureWarning: The parameter 'iid' is deprecated in 0.22 and will be removed in 0.24.\n",
      "  \"removed in 0.24.\", FutureWarning\n"
     ]
    },
    {
     "name": "stdout",
     "output_type": "stream",
     "text": [
      "214223 {'C': 0.05714285714285715, 'epsilon': 0.06214285714285714, 'kernel': 'linear'} 0.8815 0.9095\n"
     ]
    },
    {
     "name": "stderr",
     "output_type": "stream",
     "text": [
      "/Users/doug/opt/anaconda3/lib/python3.7/site-packages/sklearn/model_selection/_search.py:823: FutureWarning: The parameter 'iid' is deprecated in 0.22 and will be removed in 0.24.\n",
      "  \"removed in 0.24.\", FutureWarning\n"
     ]
    },
    {
     "name": "stdout",
     "output_type": "stream",
     "text": [
      "119850 {'C': 0.05714285714285715, 'epsilon': 0.04285714285714286, 'kernel': 'linear'} 0.8831 0.9020\n"
     ]
    },
    {
     "name": "stderr",
     "output_type": "stream",
     "text": [
      "/Users/doug/opt/anaconda3/lib/python3.7/site-packages/sklearn/model_selection/_search.py:823: FutureWarning: The parameter 'iid' is deprecated in 0.22 and will be removed in 0.24.\n",
      "  \"removed in 0.24.\", FutureWarning\n"
     ]
    },
    {
     "name": "stdout",
     "output_type": "stream",
     "text": [
      "757327 {'C': 0.04642857142857143, 'epsilon': 0.075, 'kernel': 'linear'} 0.8846 0.8925\n"
     ]
    },
    {
     "name": "stderr",
     "output_type": "stream",
     "text": [
      "/Users/doug/opt/anaconda3/lib/python3.7/site-packages/sklearn/model_selection/_search.py:823: FutureWarning: The parameter 'iid' is deprecated in 0.22 and will be removed in 0.24.\n",
      "  \"removed in 0.24.\", FutureWarning\n"
     ]
    },
    {
     "name": "stdout",
     "output_type": "stream",
     "text": [
      "924364 {'C': 0.06785714285714287, 'epsilon': 0.075, 'kernel': 'linear'} 0.8813 0.8930\n"
     ]
    },
    {
     "name": "stderr",
     "output_type": "stream",
     "text": [
      "/Users/doug/opt/anaconda3/lib/python3.7/site-packages/sklearn/model_selection/_search.py:823: FutureWarning: The parameter 'iid' is deprecated in 0.22 and will be removed in 0.24.\n",
      "  \"removed in 0.24.\", FutureWarning\n"
     ]
    },
    {
     "name": "stdout",
     "output_type": "stream",
     "text": [
      "149158 {'C': 0.04642857142857143, 'epsilon': 0.075, 'kernel': 'linear'} 0.8834 0.8841\n"
     ]
    },
    {
     "name": "stderr",
     "output_type": "stream",
     "text": [
      "/Users/doug/opt/anaconda3/lib/python3.7/site-packages/sklearn/model_selection/_search.py:823: FutureWarning: The parameter 'iid' is deprecated in 0.22 and will be removed in 0.24.\n",
      "  \"removed in 0.24.\", FutureWarning\n"
     ]
    },
    {
     "name": "stdout",
     "output_type": "stream",
     "text": [
      "469298 {'C': 0.06785714285714287, 'epsilon': 0.06857142857142856, 'kernel': 'linear'} 0.8954 0.8521\n"
     ]
    },
    {
     "name": "stderr",
     "output_type": "stream",
     "text": [
      "/Users/doug/opt/anaconda3/lib/python3.7/site-packages/sklearn/model_selection/_search.py:823: FutureWarning: The parameter 'iid' is deprecated in 0.22 and will be removed in 0.24.\n",
      "  \"removed in 0.24.\", FutureWarning\n"
     ]
    },
    {
     "name": "stdout",
     "output_type": "stream",
     "text": [
      "384385 {'C': 0.1, 'epsilon': 0.04285714285714286, 'kernel': 'linear'} 0.9192 0.7730\n"
     ]
    },
    {
     "name": "stderr",
     "output_type": "stream",
     "text": [
      "/Users/doug/opt/anaconda3/lib/python3.7/site-packages/sklearn/model_selection/_search.py:823: FutureWarning: The parameter 'iid' is deprecated in 0.22 and will be removed in 0.24.\n",
      "  \"removed in 0.24.\", FutureWarning\n"
     ]
    },
    {
     "name": "stdout",
     "output_type": "stream",
     "text": [
      "598558 {'C': 0.04642857142857143, 'epsilon': 0.055714285714285716, 'kernel': 'linear'} 0.8862 0.8807\n"
     ]
    },
    {
     "name": "stderr",
     "output_type": "stream",
     "text": [
      "/Users/doug/opt/anaconda3/lib/python3.7/site-packages/sklearn/model_selection/_search.py:823: FutureWarning: The parameter 'iid' is deprecated in 0.22 and will be removed in 0.24.\n",
      "  \"removed in 0.24.\", FutureWarning\n"
     ]
    },
    {
     "name": "stdout",
     "output_type": "stream",
     "text": [
      "677025 {'C': 0.03571428571428572, 'epsilon': 0.075, 'kernel': 'linear'} 0.8835 0.8821\n"
     ]
    },
    {
     "name": "stderr",
     "output_type": "stream",
     "text": [
      "/Users/doug/opt/anaconda3/lib/python3.7/site-packages/sklearn/model_selection/_search.py:823: FutureWarning: The parameter 'iid' is deprecated in 0.22 and will be removed in 0.24.\n",
      "  \"removed in 0.24.\", FutureWarning\n"
     ]
    },
    {
     "name": "stdout",
     "output_type": "stream",
     "text": [
      "296898 {'C': 0.1, 'epsilon': 0.04928571428571428, 'kernel': 'linear'} 0.9178 0.7547\n"
     ]
    },
    {
     "name": "stderr",
     "output_type": "stream",
     "text": [
      "/Users/doug/opt/anaconda3/lib/python3.7/site-packages/sklearn/model_selection/_search.py:823: FutureWarning: The parameter 'iid' is deprecated in 0.22 and will be removed in 0.24.\n",
      "  \"removed in 0.24.\", FutureWarning\n"
     ]
    },
    {
     "name": "stdout",
     "output_type": "stream",
     "text": [
      "530257 {'C': 0.05714285714285715, 'epsilon': 0.055714285714285716, 'kernel': 'linear'} 0.8820 0.9098\n"
     ]
    },
    {
     "name": "stderr",
     "output_type": "stream",
     "text": [
      "/Users/doug/opt/anaconda3/lib/python3.7/site-packages/sklearn/model_selection/_search.py:823: FutureWarning: The parameter 'iid' is deprecated in 0.22 and will be removed in 0.24.\n",
      "  \"removed in 0.24.\", FutureWarning\n"
     ]
    },
    {
     "name": "stdout",
     "output_type": "stream",
     "text": [
      "551447 {'C': 0.03571428571428572, 'epsilon': 0.06214285714285714, 'kernel': 'linear'} 0.8791 0.9015\n"
     ]
    },
    {
     "name": "stderr",
     "output_type": "stream",
     "text": [
      "/Users/doug/opt/anaconda3/lib/python3.7/site-packages/sklearn/model_selection/_search.py:823: FutureWarning: The parameter 'iid' is deprecated in 0.22 and will be removed in 0.24.\n",
      "  \"removed in 0.24.\", FutureWarning\n"
     ]
    },
    {
     "name": "stdout",
     "output_type": "stream",
     "text": [
      "241933 {'C': 0.1, 'epsilon': 0.03, 'kernel': 'linear'} 0.9123 0.7843\n"
     ]
    },
    {
     "name": "stderr",
     "output_type": "stream",
     "text": [
      "/Users/doug/opt/anaconda3/lib/python3.7/site-packages/sklearn/model_selection/_search.py:823: FutureWarning: The parameter 'iid' is deprecated in 0.22 and will be removed in 0.24.\n",
      "  \"removed in 0.24.\", FutureWarning\n"
     ]
    },
    {
     "name": "stdout",
     "output_type": "stream",
     "text": [
      "268872 {'C': 0.1, 'epsilon': 0.06857142857142856, 'kernel': 'linear'} 0.9168 0.7478\n"
     ]
    },
    {
     "name": "stderr",
     "output_type": "stream",
     "text": [
      "/Users/doug/opt/anaconda3/lib/python3.7/site-packages/sklearn/model_selection/_search.py:823: FutureWarning: The parameter 'iid' is deprecated in 0.22 and will be removed in 0.24.\n",
      "  \"removed in 0.24.\", FutureWarning\n"
     ]
    },
    {
     "name": "stdout",
     "output_type": "stream",
     "text": [
      "266018 {'C': 0.03571428571428572, 'epsilon': 0.06214285714285714, 'kernel': 'linear'} 0.8770 0.9097\n"
     ]
    },
    {
     "name": "stderr",
     "output_type": "stream",
     "text": [
      "/Users/doug/opt/anaconda3/lib/python3.7/site-packages/sklearn/model_selection/_search.py:823: FutureWarning: The parameter 'iid' is deprecated in 0.22 and will be removed in 0.24.\n",
      "  \"removed in 0.24.\", FutureWarning\n"
     ]
    },
    {
     "name": "stdout",
     "output_type": "stream",
     "text": [
      "893217 {'C': 0.04642857142857143, 'epsilon': 0.04928571428571428, 'kernel': 'linear'} 0.8763 0.9179\n"
     ]
    },
    {
     "name": "stderr",
     "output_type": "stream",
     "text": [
      "/Users/doug/opt/anaconda3/lib/python3.7/site-packages/sklearn/model_selection/_search.py:823: FutureWarning: The parameter 'iid' is deprecated in 0.22 and will be removed in 0.24.\n",
      "  \"removed in 0.24.\", FutureWarning\n"
     ]
    },
    {
     "name": "stdout",
     "output_type": "stream",
     "text": [
      "105694 {'C': 0.1, 'epsilon': 0.055714285714285716, 'kernel': 'linear'} 0.9133 0.7770\n"
     ]
    },
    {
     "name": "stderr",
     "output_type": "stream",
     "text": [
      "/Users/doug/opt/anaconda3/lib/python3.7/site-packages/sklearn/model_selection/_search.py:823: FutureWarning: The parameter 'iid' is deprecated in 0.22 and will be removed in 0.24.\n",
      "  \"removed in 0.24.\", FutureWarning\n"
     ]
    },
    {
     "name": "stdout",
     "output_type": "stream",
     "text": [
      "191567 {'C': 0.07857142857142858, 'epsilon': 0.075, 'kernel': 'linear'} 0.8911 0.8880\n"
     ]
    },
    {
     "name": "stderr",
     "output_type": "stream",
     "text": [
      "/Users/doug/opt/anaconda3/lib/python3.7/site-packages/sklearn/model_selection/_search.py:823: FutureWarning: The parameter 'iid' is deprecated in 0.22 and will be removed in 0.24.\n",
      "  \"removed in 0.24.\", FutureWarning\n"
     ]
    },
    {
     "name": "stdout",
     "output_type": "stream",
     "text": [
      "964180 {'C': 0.03571428571428572, 'epsilon': 0.075, 'kernel': 'linear'} 0.8811 0.9034\n"
     ]
    },
    {
     "name": "stderr",
     "output_type": "stream",
     "text": [
      "/Users/doug/opt/anaconda3/lib/python3.7/site-packages/sklearn/model_selection/_search.py:823: FutureWarning: The parameter 'iid' is deprecated in 0.22 and will be removed in 0.24.\n",
      "  \"removed in 0.24.\", FutureWarning\n"
     ]
    },
    {
     "name": "stdout",
     "output_type": "stream",
     "text": [
      "923927 {'C': 0.025, 'epsilon': 0.04928571428571428, 'kernel': 'linear'} 0.8800 0.8788\n"
     ]
    },
    {
     "name": "stderr",
     "output_type": "stream",
     "text": [
      "/Users/doug/opt/anaconda3/lib/python3.7/site-packages/sklearn/model_selection/_search.py:823: FutureWarning: The parameter 'iid' is deprecated in 0.22 and will be removed in 0.24.\n",
      "  \"removed in 0.24.\", FutureWarning\n"
     ]
    },
    {
     "name": "stdout",
     "output_type": "stream",
     "text": [
      "360109 {'C': 0.0892857142857143, 'epsilon': 0.055714285714285716, 'kernel': 'linear'} 0.9194 0.7473\n"
     ]
    },
    {
     "name": "stderr",
     "output_type": "stream",
     "text": [
      "/Users/doug/opt/anaconda3/lib/python3.7/site-packages/sklearn/model_selection/_search.py:823: FutureWarning: The parameter 'iid' is deprecated in 0.22 and will be removed in 0.24.\n",
      "  \"removed in 0.24.\", FutureWarning\n"
     ]
    },
    {
     "name": "stdout",
     "output_type": "stream",
     "text": [
      "486164 {'C': 0.1, 'epsilon': 0.06214285714285714, 'kernel': 'linear'} 0.9216 0.7448\n"
     ]
    },
    {
     "name": "stderr",
     "output_type": "stream",
     "text": [
      "/Users/doug/opt/anaconda3/lib/python3.7/site-packages/sklearn/model_selection/_search.py:823: FutureWarning: The parameter 'iid' is deprecated in 0.22 and will be removed in 0.24.\n",
      "  \"removed in 0.24.\", FutureWarning\n"
     ]
    },
    {
     "name": "stdout",
     "output_type": "stream",
     "text": [
      "610128 {'C': 0.04642857142857143, 'epsilon': 0.06214285714285714, 'kernel': 'linear'} 0.8821 0.9024\n"
     ]
    },
    {
     "name": "stderr",
     "output_type": "stream",
     "text": [
      "/Users/doug/opt/anaconda3/lib/python3.7/site-packages/sklearn/model_selection/_search.py:823: FutureWarning: The parameter 'iid' is deprecated in 0.22 and will be removed in 0.24.\n",
      "  \"removed in 0.24.\", FutureWarning\n"
     ]
    },
    {
     "name": "stdout",
     "output_type": "stream",
     "text": [
      "226116 {'C': 0.04642857142857143, 'epsilon': 0.06857142857142856, 'kernel': 'linear'} 0.8790 0.9105\n"
     ]
    },
    {
     "name": "stderr",
     "output_type": "stream",
     "text": [
      "/Users/doug/opt/anaconda3/lib/python3.7/site-packages/sklearn/model_selection/_search.py:823: FutureWarning: The parameter 'iid' is deprecated in 0.22 and will be removed in 0.24.\n",
      "  \"removed in 0.24.\", FutureWarning\n"
     ]
    },
    {
     "name": "stdout",
     "output_type": "stream",
     "text": [
      "893850 {'C': 0.04642857142857143, 'epsilon': 0.075, 'kernel': 'linear'} 0.8844 0.8811\n"
     ]
    },
    {
     "name": "stderr",
     "output_type": "stream",
     "text": [
      "/Users/doug/opt/anaconda3/lib/python3.7/site-packages/sklearn/model_selection/_search.py:823: FutureWarning: The parameter 'iid' is deprecated in 0.22 and will be removed in 0.24.\n",
      "  \"removed in 0.24.\", FutureWarning\n"
     ]
    },
    {
     "name": "stdout",
     "output_type": "stream",
     "text": [
      "512384 {'C': 0.04642857142857143, 'epsilon': 0.06857142857142856, 'kernel': 'linear'} 0.8798 0.9064\n"
     ]
    },
    {
     "name": "stderr",
     "output_type": "stream",
     "text": [
      "/Users/doug/opt/anaconda3/lib/python3.7/site-packages/sklearn/model_selection/_search.py:823: FutureWarning: The parameter 'iid' is deprecated in 0.22 and will be removed in 0.24.\n",
      "  \"removed in 0.24.\", FutureWarning\n"
     ]
    },
    {
     "name": "stdout",
     "output_type": "stream",
     "text": [
      "615093 {'C': 0.04642857142857143, 'epsilon': 0.075, 'kernel': 'linear'} 0.8807 0.9126\n"
     ]
    },
    {
     "name": "stderr",
     "output_type": "stream",
     "text": [
      "/Users/doug/opt/anaconda3/lib/python3.7/site-packages/sklearn/model_selection/_search.py:823: FutureWarning: The parameter 'iid' is deprecated in 0.22 and will be removed in 0.24.\n",
      "  \"removed in 0.24.\", FutureWarning\n"
     ]
    },
    {
     "name": "stdout",
     "output_type": "stream",
     "text": [
      "62012 {'C': 0.1, 'epsilon': 0.075, 'kernel': 'linear'} 0.8974 0.8575\n"
     ]
    },
    {
     "name": "stderr",
     "output_type": "stream",
     "text": [
      "/Users/doug/opt/anaconda3/lib/python3.7/site-packages/sklearn/model_selection/_search.py:823: FutureWarning: The parameter 'iid' is deprecated in 0.22 and will be removed in 0.24.\n",
      "  \"removed in 0.24.\", FutureWarning\n"
     ]
    },
    {
     "name": "stdout",
     "output_type": "stream",
     "text": [
      "294490 {'C': 0.04642857142857143, 'epsilon': 0.03642857142857143, 'kernel': 'linear'} 0.8882 0.8617\n"
     ]
    },
    {
     "name": "stderr",
     "output_type": "stream",
     "text": [
      "/Users/doug/opt/anaconda3/lib/python3.7/site-packages/sklearn/model_selection/_search.py:823: FutureWarning: The parameter 'iid' is deprecated in 0.22 and will be removed in 0.24.\n",
      "  \"removed in 0.24.\", FutureWarning\n"
     ]
    },
    {
     "name": "stdout",
     "output_type": "stream",
     "text": [
      "303110 {'C': 0.06785714285714287, 'epsilon': 0.055714285714285716, 'kernel': 'linear'} 0.8826 0.8977\n"
     ]
    },
    {
     "name": "stderr",
     "output_type": "stream",
     "text": [
      "/Users/doug/opt/anaconda3/lib/python3.7/site-packages/sklearn/model_selection/_search.py:823: FutureWarning: The parameter 'iid' is deprecated in 0.22 and will be removed in 0.24.\n",
      "  \"removed in 0.24.\", FutureWarning\n"
     ]
    },
    {
     "name": "stdout",
     "output_type": "stream",
     "text": [
      "839655 {'C': 0.04642857142857143, 'epsilon': 0.06857142857142856, 'kernel': 'linear'} 0.8827 0.8977\n"
     ]
    },
    {
     "name": "stderr",
     "output_type": "stream",
     "text": [
      "/Users/doug/opt/anaconda3/lib/python3.7/site-packages/sklearn/model_selection/_search.py:823: FutureWarning: The parameter 'iid' is deprecated in 0.22 and will be removed in 0.24.\n",
      "  \"removed in 0.24.\", FutureWarning\n"
     ]
    },
    {
     "name": "stdout",
     "output_type": "stream",
     "text": [
      "530529 {'C': 0.05714285714285715, 'epsilon': 0.03, 'kernel': 'linear'} 0.8865 0.8874\n"
     ]
    },
    {
     "name": "stderr",
     "output_type": "stream",
     "text": [
      "/Users/doug/opt/anaconda3/lib/python3.7/site-packages/sklearn/model_selection/_search.py:823: FutureWarning: The parameter 'iid' is deprecated in 0.22 and will be removed in 0.24.\n",
      "  \"removed in 0.24.\", FutureWarning\n"
     ]
    },
    {
     "name": "stdout",
     "output_type": "stream",
     "text": [
      "886931 {'C': 0.03571428571428572, 'epsilon': 0.04285714285714286, 'kernel': 'linear'} 0.8843 0.8775\n"
     ]
    },
    {
     "name": "stderr",
     "output_type": "stream",
     "text": [
      "/Users/doug/opt/anaconda3/lib/python3.7/site-packages/sklearn/model_selection/_search.py:823: FutureWarning: The parameter 'iid' is deprecated in 0.22 and will be removed in 0.24.\n",
      "  \"removed in 0.24.\", FutureWarning\n"
     ]
    },
    {
     "name": "stdout",
     "output_type": "stream",
     "text": [
      "667260 {'C': 0.04642857142857143, 'epsilon': 0.075, 'kernel': 'linear'} 0.8864 0.8806\n"
     ]
    },
    {
     "name": "stderr",
     "output_type": "stream",
     "text": [
      "/Users/doug/opt/anaconda3/lib/python3.7/site-packages/sklearn/model_selection/_search.py:823: FutureWarning: The parameter 'iid' is deprecated in 0.22 and will be removed in 0.24.\n",
      "  \"removed in 0.24.\", FutureWarning\n"
     ]
    },
    {
     "name": "stdout",
     "output_type": "stream",
     "text": [
      "624691 {'C': 0.04642857142857143, 'epsilon': 0.06214285714285714, 'kernel': 'linear'} 0.8921 0.8628\n"
     ]
    },
    {
     "name": "stderr",
     "output_type": "stream",
     "text": [
      "/Users/doug/opt/anaconda3/lib/python3.7/site-packages/sklearn/model_selection/_search.py:823: FutureWarning: The parameter 'iid' is deprecated in 0.22 and will be removed in 0.24.\n",
      "  \"removed in 0.24.\", FutureWarning\n"
     ]
    },
    {
     "name": "stdout",
     "output_type": "stream",
     "text": [
      "354833 {'C': 0.05714285714285715, 'epsilon': 0.06214285714285714, 'kernel': 'linear'} 0.8865 0.8944\n"
     ]
    },
    {
     "name": "stderr",
     "output_type": "stream",
     "text": [
      "/Users/doug/opt/anaconda3/lib/python3.7/site-packages/sklearn/model_selection/_search.py:823: FutureWarning: The parameter 'iid' is deprecated in 0.22 and will be removed in 0.24.\n",
      "  \"removed in 0.24.\", FutureWarning\n"
     ]
    },
    {
     "name": "stdout",
     "output_type": "stream",
     "text": [
      "816693 {'C': 0.03571428571428572, 'epsilon': 0.06214285714285714, 'kernel': 'linear'} 0.8853 0.8765\n"
     ]
    },
    {
     "name": "stderr",
     "output_type": "stream",
     "text": [
      "/Users/doug/opt/anaconda3/lib/python3.7/site-packages/sklearn/model_selection/_search.py:823: FutureWarning: The parameter 'iid' is deprecated in 0.22 and will be removed in 0.24.\n",
      "  \"removed in 0.24.\", FutureWarning\n"
     ]
    },
    {
     "name": "stdout",
     "output_type": "stream",
     "text": [
      "988788 {'C': 0.04642857142857143, 'epsilon': 0.075, 'kernel': 'linear'} 0.8778 0.9215\n"
     ]
    },
    {
     "name": "stderr",
     "output_type": "stream",
     "text": [
      "/Users/doug/opt/anaconda3/lib/python3.7/site-packages/sklearn/model_selection/_search.py:823: FutureWarning: The parameter 'iid' is deprecated in 0.22 and will be removed in 0.24.\n",
      "  \"removed in 0.24.\", FutureWarning\n"
     ]
    },
    {
     "name": "stdout",
     "output_type": "stream",
     "text": [
      "399353 {'C': 0.1, 'epsilon': 0.075, 'kernel': 'linear'} 0.9225 0.7118\n"
     ]
    },
    {
     "name": "stderr",
     "output_type": "stream",
     "text": [
      "/Users/doug/opt/anaconda3/lib/python3.7/site-packages/sklearn/model_selection/_search.py:823: FutureWarning: The parameter 'iid' is deprecated in 0.22 and will be removed in 0.24.\n",
      "  \"removed in 0.24.\", FutureWarning\n"
     ]
    },
    {
     "name": "stdout",
     "output_type": "stream",
     "text": [
      "27622 {'C': 0.03571428571428572, 'epsilon': 0.055714285714285716, 'kernel': 'linear'} 0.8767 0.9140\n"
     ]
    },
    {
     "name": "stderr",
     "output_type": "stream",
     "text": [
      "/Users/doug/opt/anaconda3/lib/python3.7/site-packages/sklearn/model_selection/_search.py:823: FutureWarning: The parameter 'iid' is deprecated in 0.22 and will be removed in 0.24.\n",
      "  \"removed in 0.24.\", FutureWarning\n"
     ]
    },
    {
     "name": "stdout",
     "output_type": "stream",
     "text": [
      "948379 {'C': 0.04642857142857143, 'epsilon': 0.075, 'kernel': 'linear'} 0.8855 0.8843\n"
     ]
    },
    {
     "name": "stderr",
     "output_type": "stream",
     "text": [
      "/Users/doug/opt/anaconda3/lib/python3.7/site-packages/sklearn/model_selection/_search.py:823: FutureWarning: The parameter 'iid' is deprecated in 0.22 and will be removed in 0.24.\n",
      "  \"removed in 0.24.\", FutureWarning\n"
     ]
    },
    {
     "name": "stdout",
     "output_type": "stream",
     "text": [
      "845588 {'C': 0.04642857142857143, 'epsilon': 0.055714285714285716, 'kernel': 'linear'} 0.8828 0.8993\n"
     ]
    },
    {
     "name": "stderr",
     "output_type": "stream",
     "text": [
      "/Users/doug/opt/anaconda3/lib/python3.7/site-packages/sklearn/model_selection/_search.py:823: FutureWarning: The parameter 'iid' is deprecated in 0.22 and will be removed in 0.24.\n",
      "  \"removed in 0.24.\", FutureWarning\n"
     ]
    },
    {
     "name": "stdout",
     "output_type": "stream",
     "text": [
      "795032 {'C': 0.03571428571428572, 'epsilon': 0.06857142857142856, 'kernel': 'linear'} 0.8775 0.9095\n"
     ]
    },
    {
     "name": "stderr",
     "output_type": "stream",
     "text": [
      "/Users/doug/opt/anaconda3/lib/python3.7/site-packages/sklearn/model_selection/_search.py:823: FutureWarning: The parameter 'iid' is deprecated in 0.22 and will be removed in 0.24.\n",
      "  \"removed in 0.24.\", FutureWarning\n"
     ]
    },
    {
     "name": "stdout",
     "output_type": "stream",
     "text": [
      "570236 {'C': 0.04642857142857143, 'epsilon': 0.075, 'kernel': 'linear'} 0.8846 0.8877\n"
     ]
    },
    {
     "name": "stderr",
     "output_type": "stream",
     "text": [
      "/Users/doug/opt/anaconda3/lib/python3.7/site-packages/sklearn/model_selection/_search.py:823: FutureWarning: The parameter 'iid' is deprecated in 0.22 and will be removed in 0.24.\n",
      "  \"removed in 0.24.\", FutureWarning\n"
     ]
    },
    {
     "name": "stdout",
     "output_type": "stream",
     "text": [
      "170744 {'C': 0.04642857142857143, 'epsilon': 0.06214285714285714, 'kernel': 'linear'} 0.8865 0.8783\n"
     ]
    },
    {
     "name": "stderr",
     "output_type": "stream",
     "text": [
      "/Users/doug/opt/anaconda3/lib/python3.7/site-packages/sklearn/model_selection/_search.py:823: FutureWarning: The parameter 'iid' is deprecated in 0.22 and will be removed in 0.24.\n",
      "  \"removed in 0.24.\", FutureWarning\n"
     ]
    },
    {
     "name": "stdout",
     "output_type": "stream",
     "text": [
      "358784 {'C': 0.06785714285714287, 'epsilon': 0.06214285714285714, 'kernel': 'linear'} 0.8855 0.8946\n"
     ]
    },
    {
     "name": "stderr",
     "output_type": "stream",
     "text": [
      "/Users/doug/opt/anaconda3/lib/python3.7/site-packages/sklearn/model_selection/_search.py:823: FutureWarning: The parameter 'iid' is deprecated in 0.22 and will be removed in 0.24.\n",
      "  \"removed in 0.24.\", FutureWarning\n"
     ]
    },
    {
     "name": "stdout",
     "output_type": "stream",
     "text": [
      "478408 {'C': 0.1, 'epsilon': 0.075, 'kernel': 'linear'} 0.9242 0.7487\n"
     ]
    },
    {
     "name": "stderr",
     "output_type": "stream",
     "text": [
      "/Users/doug/opt/anaconda3/lib/python3.7/site-packages/sklearn/model_selection/_search.py:823: FutureWarning: The parameter 'iid' is deprecated in 0.22 and will be removed in 0.24.\n",
      "  \"removed in 0.24.\", FutureWarning\n"
     ]
    },
    {
     "name": "stdout",
     "output_type": "stream",
     "text": [
      "325342 {'C': 0.1, 'epsilon': 0.04285714285714286, 'kernel': 'linear'} 0.9189 0.7512\n"
     ]
    },
    {
     "name": "stderr",
     "output_type": "stream",
     "text": [
      "/Users/doug/opt/anaconda3/lib/python3.7/site-packages/sklearn/model_selection/_search.py:823: FutureWarning: The parameter 'iid' is deprecated in 0.22 and will be removed in 0.24.\n",
      "  \"removed in 0.24.\", FutureWarning\n"
     ]
    },
    {
     "name": "stdout",
     "output_type": "stream",
     "text": [
      "421922 {'C': 0.1, 'epsilon': 0.075, 'kernel': 'linear'} 0.8903 0.8882\n"
     ]
    },
    {
     "name": "stderr",
     "output_type": "stream",
     "text": [
      "/Users/doug/opt/anaconda3/lib/python3.7/site-packages/sklearn/model_selection/_search.py:823: FutureWarning: The parameter 'iid' is deprecated in 0.22 and will be removed in 0.24.\n",
      "  \"removed in 0.24.\", FutureWarning\n"
     ]
    },
    {
     "name": "stdout",
     "output_type": "stream",
     "text": [
      "380672 {'C': 0.1, 'epsilon': 0.04928571428571428, 'kernel': 'linear'} 0.9125 0.7862\n"
     ]
    },
    {
     "name": "stderr",
     "output_type": "stream",
     "text": [
      "/Users/doug/opt/anaconda3/lib/python3.7/site-packages/sklearn/model_selection/_search.py:823: FutureWarning: The parameter 'iid' is deprecated in 0.22 and will be removed in 0.24.\n",
      "  \"removed in 0.24.\", FutureWarning\n"
     ]
    },
    {
     "name": "stdout",
     "output_type": "stream",
     "text": [
      "437307 {'C': 0.05714285714285715, 'epsilon': 0.055714285714285716, 'kernel': 'linear'} 0.8955 0.8496\n"
     ]
    },
    {
     "name": "stderr",
     "output_type": "stream",
     "text": [
      "/Users/doug/opt/anaconda3/lib/python3.7/site-packages/sklearn/model_selection/_search.py:823: FutureWarning: The parameter 'iid' is deprecated in 0.22 and will be removed in 0.24.\n",
      "  \"removed in 0.24.\", FutureWarning\n"
     ]
    },
    {
     "name": "stdout",
     "output_type": "stream",
     "text": [
      "134944 {'C': 0.1, 'epsilon': 0.03642857142857143, 'kernel': 'linear'} 0.9175 0.7647\n"
     ]
    },
    {
     "name": "stderr",
     "output_type": "stream",
     "text": [
      "/Users/doug/opt/anaconda3/lib/python3.7/site-packages/sklearn/model_selection/_search.py:823: FutureWarning: The parameter 'iid' is deprecated in 0.22 and will be removed in 0.24.\n",
      "  \"removed in 0.24.\", FutureWarning\n"
     ]
    },
    {
     "name": "stdout",
     "output_type": "stream",
     "text": [
      "826058 {'C': 0.1, 'epsilon': 0.075, 'kernel': 'linear'} 0.9156 0.7496\n"
     ]
    },
    {
     "name": "stderr",
     "output_type": "stream",
     "text": [
      "/Users/doug/opt/anaconda3/lib/python3.7/site-packages/sklearn/model_selection/_search.py:823: FutureWarning: The parameter 'iid' is deprecated in 0.22 and will be removed in 0.24.\n",
      "  \"removed in 0.24.\", FutureWarning\n"
     ]
    },
    {
     "name": "stdout",
     "output_type": "stream",
     "text": [
      "517084 {'C': 0.04642857142857143, 'epsilon': 0.055714285714285716, 'kernel': 'linear'} 0.8775 0.9151\n"
     ]
    },
    {
     "name": "stderr",
     "output_type": "stream",
     "text": [
      "/Users/doug/opt/anaconda3/lib/python3.7/site-packages/sklearn/model_selection/_search.py:823: FutureWarning: The parameter 'iid' is deprecated in 0.22 and will be removed in 0.24.\n",
      "  \"removed in 0.24.\", FutureWarning\n"
     ]
    },
    {
     "name": "stdout",
     "output_type": "stream",
     "text": [
      "504048 {'C': 0.04642857142857143, 'epsilon': 0.075, 'kernel': 'linear'} 0.8865 0.8889\n"
     ]
    },
    {
     "name": "stderr",
     "output_type": "stream",
     "text": [
      "/Users/doug/opt/anaconda3/lib/python3.7/site-packages/sklearn/model_selection/_search.py:823: FutureWarning: The parameter 'iid' is deprecated in 0.22 and will be removed in 0.24.\n",
      "  \"removed in 0.24.\", FutureWarning\n"
     ]
    },
    {
     "name": "stdout",
     "output_type": "stream",
     "text": [
      "68381 {'C': 0.03571428571428572, 'epsilon': 0.04285714285714286, 'kernel': 'linear'} 0.8889 0.8706\n"
     ]
    },
    {
     "name": "stderr",
     "output_type": "stream",
     "text": [
      "/Users/doug/opt/anaconda3/lib/python3.7/site-packages/sklearn/model_selection/_search.py:823: FutureWarning: The parameter 'iid' is deprecated in 0.22 and will be removed in 0.24.\n",
      "  \"removed in 0.24.\", FutureWarning\n"
     ]
    },
    {
     "name": "stdout",
     "output_type": "stream",
     "text": [
      "529324 {'C': 0.1, 'epsilon': 0.06214285714285714, 'kernel': 'linear'} 0.9110 0.7862\n"
     ]
    },
    {
     "name": "stderr",
     "output_type": "stream",
     "text": [
      "/Users/doug/opt/anaconda3/lib/python3.7/site-packages/sklearn/model_selection/_search.py:823: FutureWarning: The parameter 'iid' is deprecated in 0.22 and will be removed in 0.24.\n",
      "  \"removed in 0.24.\", FutureWarning\n"
     ]
    },
    {
     "name": "stdout",
     "output_type": "stream",
     "text": [
      "695037 {'C': 0.05714285714285715, 'epsilon': 0.04928571428571428, 'kernel': 'linear'} 0.8832 0.8926\n"
     ]
    },
    {
     "name": "stderr",
     "output_type": "stream",
     "text": [
      "/Users/doug/opt/anaconda3/lib/python3.7/site-packages/sklearn/model_selection/_search.py:823: FutureWarning: The parameter 'iid' is deprecated in 0.22 and will be removed in 0.24.\n",
      "  \"removed in 0.24.\", FutureWarning\n"
     ]
    },
    {
     "name": "stdout",
     "output_type": "stream",
     "text": [
      "668143 {'C': 0.025, 'epsilon': 0.06857142857142856, 'kernel': 'linear'} 0.8804 0.8871\n"
     ]
    },
    {
     "name": "stderr",
     "output_type": "stream",
     "text": [
      "/Users/doug/opt/anaconda3/lib/python3.7/site-packages/sklearn/model_selection/_search.py:823: FutureWarning: The parameter 'iid' is deprecated in 0.22 and will be removed in 0.24.\n",
      "  \"removed in 0.24.\", FutureWarning\n"
     ]
    },
    {
     "name": "stdout",
     "output_type": "stream",
     "text": [
      "606673 {'C': 0.03571428571428572, 'epsilon': 0.075, 'kernel': 'linear'} 0.8821 0.8847\n"
     ]
    },
    {
     "name": "stderr",
     "output_type": "stream",
     "text": [
      "/Users/doug/opt/anaconda3/lib/python3.7/site-packages/sklearn/model_selection/_search.py:823: FutureWarning: The parameter 'iid' is deprecated in 0.22 and will be removed in 0.24.\n",
      "  \"removed in 0.24.\", FutureWarning\n"
     ]
    },
    {
     "name": "stdout",
     "output_type": "stream",
     "text": [
      "609930 {'C': 0.1, 'epsilon': 0.075, 'kernel': 'linear'} 0.9234 0.7236\n"
     ]
    },
    {
     "name": "stderr",
     "output_type": "stream",
     "text": [
      "/Users/doug/opt/anaconda3/lib/python3.7/site-packages/sklearn/model_selection/_search.py:823: FutureWarning: The parameter 'iid' is deprecated in 0.22 and will be removed in 0.24.\n",
      "  \"removed in 0.24.\", FutureWarning\n"
     ]
    },
    {
     "name": "stdout",
     "output_type": "stream",
     "text": [
      "292179 {'C': 0.05714285714285715, 'epsilon': 0.055714285714285716, 'kernel': 'linear'} 0.8893 0.8698\n"
     ]
    },
    {
     "name": "stderr",
     "output_type": "stream",
     "text": [
      "/Users/doug/opt/anaconda3/lib/python3.7/site-packages/sklearn/model_selection/_search.py:823: FutureWarning: The parameter 'iid' is deprecated in 0.22 and will be removed in 0.24.\n",
      "  \"removed in 0.24.\", FutureWarning\n"
     ]
    },
    {
     "name": "stdout",
     "output_type": "stream",
     "text": [
      "802667 {'C': 0.03571428571428572, 'epsilon': 0.03642857142857143, 'kernel': 'linear'} 0.8852 0.8662\n"
     ]
    },
    {
     "name": "stderr",
     "output_type": "stream",
     "text": [
      "/Users/doug/opt/anaconda3/lib/python3.7/site-packages/sklearn/model_selection/_search.py:823: FutureWarning: The parameter 'iid' is deprecated in 0.22 and will be removed in 0.24.\n",
      "  \"removed in 0.24.\", FutureWarning\n"
     ]
    },
    {
     "name": "stdout",
     "output_type": "stream",
     "text": [
      "128570 {'C': 0.03571428571428572, 'epsilon': 0.075, 'kernel': 'linear'} 0.8855 0.8803\n"
     ]
    },
    {
     "name": "stderr",
     "output_type": "stream",
     "text": [
      "/Users/doug/opt/anaconda3/lib/python3.7/site-packages/sklearn/model_selection/_search.py:823: FutureWarning: The parameter 'iid' is deprecated in 0.22 and will be removed in 0.24.\n",
      "  \"removed in 0.24.\", FutureWarning\n"
     ]
    },
    {
     "name": "stdout",
     "output_type": "stream",
     "text": [
      "563500 {'C': 0.04642857142857143, 'epsilon': 0.06857142857142856, 'kernel': 'linear'} 0.8900 0.8815\n"
     ]
    },
    {
     "name": "stderr",
     "output_type": "stream",
     "text": [
      "/Users/doug/opt/anaconda3/lib/python3.7/site-packages/sklearn/model_selection/_search.py:823: FutureWarning: The parameter 'iid' is deprecated in 0.22 and will be removed in 0.24.\n",
      "  \"removed in 0.24.\", FutureWarning\n"
     ]
    },
    {
     "name": "stdout",
     "output_type": "stream",
     "text": [
      "134296 {'C': 0.06785714285714287, 'epsilon': 0.06214285714285714, 'kernel': 'linear'} 0.8964 0.8498\n"
     ]
    },
    {
     "name": "stderr",
     "output_type": "stream",
     "text": [
      "/Users/doug/opt/anaconda3/lib/python3.7/site-packages/sklearn/model_selection/_search.py:823: FutureWarning: The parameter 'iid' is deprecated in 0.22 and will be removed in 0.24.\n",
      "  \"removed in 0.24.\", FutureWarning\n"
     ]
    },
    {
     "name": "stdout",
     "output_type": "stream",
     "text": [
      "544969 {'C': 0.1, 'epsilon': 0.04928571428571428, 'kernel': 'linear'} 0.9136 0.7678\n"
     ]
    },
    {
     "name": "stderr",
     "output_type": "stream",
     "text": [
      "/Users/doug/opt/anaconda3/lib/python3.7/site-packages/sklearn/model_selection/_search.py:823: FutureWarning: The parameter 'iid' is deprecated in 0.22 and will be removed in 0.24.\n",
      "  \"removed in 0.24.\", FutureWarning\n"
     ]
    },
    {
     "name": "stdout",
     "output_type": "stream",
     "text": [
      "688671 {'C': 0.1, 'epsilon': 0.075, 'kernel': 'linear'} 0.9161 0.7672\n"
     ]
    },
    {
     "name": "stderr",
     "output_type": "stream",
     "text": [
      "/Users/doug/opt/anaconda3/lib/python3.7/site-packages/sklearn/model_selection/_search.py:823: FutureWarning: The parameter 'iid' is deprecated in 0.22 and will be removed in 0.24.\n",
      "  \"removed in 0.24.\", FutureWarning\n"
     ]
    },
    {
     "name": "stdout",
     "output_type": "stream",
     "text": [
      "578817 {'C': 0.1, 'epsilon': 0.055714285714285716, 'kernel': 'linear'} 0.9121 0.7675\n"
     ]
    },
    {
     "name": "stderr",
     "output_type": "stream",
     "text": [
      "/Users/doug/opt/anaconda3/lib/python3.7/site-packages/sklearn/model_selection/_search.py:823: FutureWarning: The parameter 'iid' is deprecated in 0.22 and will be removed in 0.24.\n",
      "  \"removed in 0.24.\", FutureWarning\n"
     ]
    },
    {
     "name": "stdout",
     "output_type": "stream",
     "text": [
      "182962 {'C': 0.03571428571428572, 'epsilon': 0.055714285714285716, 'kernel': 'linear'} 0.8824 0.8771\n"
     ]
    },
    {
     "name": "stderr",
     "output_type": "stream",
     "text": [
      "/Users/doug/opt/anaconda3/lib/python3.7/site-packages/sklearn/model_selection/_search.py:823: FutureWarning: The parameter 'iid' is deprecated in 0.22 and will be removed in 0.24.\n",
      "  \"removed in 0.24.\", FutureWarning\n"
     ]
    },
    {
     "name": "stdout",
     "output_type": "stream",
     "text": [
      "682081 {'C': 0.03571428571428572, 'epsilon': 0.04285714285714286, 'kernel': 'linear'} 0.8803 0.8938\n"
     ]
    },
    {
     "name": "stderr",
     "output_type": "stream",
     "text": [
      "/Users/doug/opt/anaconda3/lib/python3.7/site-packages/sklearn/model_selection/_search.py:823: FutureWarning: The parameter 'iid' is deprecated in 0.22 and will be removed in 0.24.\n",
      "  \"removed in 0.24.\", FutureWarning\n"
     ]
    },
    {
     "name": "stdout",
     "output_type": "stream",
     "text": [
      "463480 {'C': 0.04642857142857143, 'epsilon': 0.06857142857142856, 'kernel': 'linear'} 0.8847 0.8928\n"
     ]
    }
   ],
   "source": [
    "grid_para_svr = [\n",
    "    {'C': np.linspace(0.025,0.1,8),\n",
    "     'kernel': ['linear'],\n",
    "     'epsilon': np.linspace(0.03,0.075,8)}]\n",
    "espes = []\n",
    "cs = []\n",
    "for i in range(100):\n",
    "    rnint = np.random.randint(0,1000000)\n",
    "    x_traincv, x_testcv, y_traincv, y_testcv = ms.train_test_split(x_scaled, y_train_log, \n",
    "                                                           test_size=0.20, random_state=rnint)\n",
    "    grid_search_svr = ms.GridSearchCV(svr, grid_para_svr, scoring='r2', cv=5, iid=True, return_train_score=True,  n_jobs=-1)\n",
    "    grid_search_svr.fit(x_traincv,y_traincv)\n",
    "    svr.set_params(C= grid_search_svr.best_params_['C'], \\\n",
    "               epsilon = grid_search_svr.best_params_['epsilon'], \n",
    "               kernel = 'linear')\n",
    "    svr.fit(x_traincv,y_traincv)\n",
    "    cs.append(grid_search_svr.best_params_['C'])\n",
    "    espes.append(grid_search_svr.best_params_['epsilon'])\n",
    "    print (rnint, grid_search_svr.best_params_, '%.4f' % svr.score(x_traincv,y_traincv), '%.4f' % svr.score(x_testcv,y_testcv))"
   ]
  },
  {
   "cell_type": "markdown",
   "metadata": {},
   "source": [
    "See there is a left skew of the best Cs, so I ended up taking 0.045"
   ]
  },
  {
   "cell_type": "code",
   "execution_count": 45,
   "metadata": {},
   "outputs": [
    {
     "name": "stdout",
     "output_type": "stream",
     "text": [
      "0.04642857142857143\n"
     ]
    },
    {
     "data": {
      "text/plain": [
       "(array([ 2., 19., 33.,  0., 10.,  6.,  0.,  1.,  3., 26.]),\n",
       " array([0.025 , 0.0325, 0.04  , 0.0475, 0.055 , 0.0625, 0.07  , 0.0775,\n",
       "        0.085 , 0.0925, 0.1   ]),\n",
       " <a list of 10 Patch objects>)"
      ]
     },
     "execution_count": 45,
     "metadata": {},
     "output_type": "execute_result"
    },
    {
     "data": {
      "image/png": "[encoded data removed]",
      "text/plain": [
       "<Figure size 432x432 with 1 Axes>"
      ]
     },
     "metadata": {},
     "output_type": "display_data"
    }
   ],
   "source": [
    "print(statistics.median(cs))\n",
    "plt.hist(cs)"
   ]
  },
  {
   "cell_type": "markdown",
   "metadata": {},
   "source": [
    "the epsilons were more normal-ish, so I took the mode at about 0.06."
   ]
  },
  {
   "cell_type": "code",
   "execution_count": 46,
   "metadata": {},
   "outputs": [
    {
     "name": "stdout",
     "output_type": "stream",
     "text": [
      "0.06214285714285714\n"
     ]
    },
    {
     "data": {
      "text/plain": [
       "(array([ 3.,  3.,  9.,  0., 10., 18.,  0., 18.,  9., 30.]),\n",
       " array([0.03  , 0.0345, 0.039 , 0.0435, 0.048 , 0.0525, 0.057 , 0.0615,\n",
       "        0.066 , 0.0705, 0.075 ]),\n",
       " <a list of 10 Patch objects>)"
      ]
     },
     "execution_count": 46,
     "metadata": {},
     "output_type": "execute_result"
    },
    {
     "data": {
      "image/png": "[encoded data removed]",
      "text/plain": [
       "<Figure size 432x432 with 1 Axes>"
      ]
     },
     "metadata": {},
     "output_type": "display_data"
    }
   ],
   "source": [
    "print(statistics.median(espes))\n",
    "plt.hist(espes)"
   ]
  },
  {
   "cell_type": "markdown",
   "metadata": {},
   "source": [
    "take the estimates for c and epsilon above and put into another iteration of test_train splits to get an idea of the variance around the r2 for train and test for each random split.  The estimates are about 89% for the average train r2, and 87% for the test r2."
   ]
  },
  {
   "cell_type": "code",
   "execution_count": 48,
   "metadata": {},
   "outputs": [
    {
     "name": "stdout",
     "output_type": "stream",
     "text": [
      "846692 0.8777 0.9206\n",
      "144481 0.8831 0.8898\n",
      "329172 0.8792 0.9159\n",
      "920239 0.8824 0.9053\n",
      "774805 0.9093 0.7752\n",
      "736070 0.9057 0.8060\n",
      "451501 0.8796 0.8957\n",
      "866030 0.8888 0.8705\n",
      "\n",
      "0.8882 0.8724\n"
     ]
    }
   ],
   "source": [
    "trn_scr=[]\n",
    "tst_scr=[]\n",
    "for i in range(8):\n",
    "    rnint = np.random.randint(0,1000000)\n",
    "    x_traincv, x_testcv, y_traincv, y_testcv = ms.train_test_split(x_scaled, y_train_log, \n",
    "                            test_size=0.20, random_state=rnint)\n",
    "    svr.set_params(C= 0.045, \\\n",
    "               epsilon = 0.06, \n",
    "               kernel = 'linear')\n",
    "    svr.fit(x_traincv,y_traincv)\n",
    "    trn_scr.append(svr.score(x_traincv,y_traincv))\n",
    "    tst_scr.append(svr.score(x_testcv,y_testcv))\n",
    "    print (rnint,'%.4f' % svr.score(x_traincv,y_traincv), '%.4f' % svr.score(x_testcv,y_testcv))\n",
    "print()\n",
    "print('%.4f' % statistics.mean(trn_scr),'%.4f' % statistics.mean(tst_scr))"
   ]
  },
  {
   "cell_type": "markdown",
   "metadata": {},
   "source": [
    "do one more test train split to get the r2 for the entire train set and entire test set."
   ]
  },
  {
   "cell_type": "code",
   "execution_count": 11,
   "metadata": {},
   "outputs": [
    {
     "name": "stdout",
     "output_type": "stream",
     "text": [
      "train r2 396462 0.8837\n",
      "test r2 396462 0.8945\n"
     ]
    }
   ],
   "source": [
    "# rnint = np.random.randint(0,1000000)\n",
    "x_traincv, x_testcv, y_traincv, y_testcv = ms.train_test_split(x_scaled, y_train_log, \n",
    "                        test_size=0.20, random_state=396462)\n",
    "svr.set_params(C= 0.045, epsilon = 0.06, kernel = 'linear')\n",
    "svr.fit(x_traincv,y_traincv)\n",
    "print ('train r2',396462, '%.4f' % svr.score(x_traincv,y_traincv))\n",
    "print ('test r2',396462, '%.4f' % svr.score(x_testcv,y_testcv))"
   ]
  },
  {
   "cell_type": "markdown",
   "metadata": {},
   "source": [
    "get the coefficients for the model."
   ]
  },
  {
   "cell_type": "code",
   "execution_count": 12,
   "metadata": {},
   "outputs": [],
   "source": [
    "coefs = list(zip(train.columns[train.columns!='SalePrice'],list(svr.coef_[0])))\n",
    "srt_coef = sorted(coefs, key=lambda element: (element[0], element[1]))\n",
    "srt_coef\n",
    "srt_coef_df = pd.DataFrame(srt_coef)"
   ]
  },
  {
   "cell_type": "markdown",
   "metadata": {},
   "source": [
    "will plot only those above 0.04 magnitude."
   ]
  },
  {
   "cell_type": "code",
   "execution_count": 24,
   "metadata": {},
   "outputs": [
    {
     "data": {
      "text/html": [
       "<div>\n",
       "<style scoped>\n",
       "    .dataframe tbody tr th:only-of-type {\n",
       "        vertical-align: middle;\n",
       "    }\n",
       "\n",
       "    .dataframe tbody tr th {\n",
       "        vertical-align: top;\n",
       "    }\n",
       "\n",
       "    .dataframe thead th {\n",
       "        text-align: right;\n",
       "    }\n",
       "</style>\n",
       "<table border=\"1\" class=\"dataframe\">\n",
       "  <thead>\n",
       "    <tr style=\"text-align: right;\">\n",
       "      <th></th>\n",
       "      <th>1</th>\n",
       "    </tr>\n",
       "    <tr>\n",
       "      <th>0</th>\n",
       "      <th></th>\n",
       "    </tr>\n",
       "  </thead>\n",
       "  <tbody>\n",
       "    <tr>\n",
       "      <th>BedroomAbvGr</th>\n",
       "      <td>0.168201</td>\n",
       "    </tr>\n",
       "    <tr>\n",
       "      <th>BsmtExposure</th>\n",
       "      <td>0.100548</td>\n",
       "    </tr>\n",
       "    <tr>\n",
       "      <th>BsmtFinSF1</th>\n",
       "      <td>0.290263</td>\n",
       "    </tr>\n",
       "    <tr>\n",
       "      <th>BsmtFinSF2</th>\n",
       "      <td>0.093179</td>\n",
       "    </tr>\n",
       "    <tr>\n",
       "      <th>BsmtFinType1</th>\n",
       "      <td>0.048096</td>\n",
       "    </tr>\n",
       "    <tr>\n",
       "      <th>...</th>\n",
       "      <td>...</td>\n",
       "    </tr>\n",
       "    <tr>\n",
       "      <th>ThreSsnPorch</th>\n",
       "      <td>0.088407</td>\n",
       "    </tr>\n",
       "    <tr>\n",
       "      <th>TotalBsmtSF</th>\n",
       "      <td>0.326293</td>\n",
       "    </tr>\n",
       "    <tr>\n",
       "      <th>Utilities</th>\n",
       "      <td>0.045000</td>\n",
       "    </tr>\n",
       "    <tr>\n",
       "      <th>WoodDeckSF</th>\n",
       "      <td>0.079119</td>\n",
       "    </tr>\n",
       "    <tr>\n",
       "      <th>YearRemodAdd</th>\n",
       "      <td>0.081836</td>\n",
       "    </tr>\n",
       "  </tbody>\n",
       "</table>\n",
       "<p>73 rows × 1 columns</p>\n",
       "</div>"
      ],
      "text/plain": [
       "                     1\n",
       "0                     \n",
       "BedroomAbvGr  0.168201\n",
       "BsmtExposure  0.100548\n",
       "BsmtFinSF1    0.290263\n",
       "BsmtFinSF2    0.093179\n",
       "BsmtFinType1  0.048096\n",
       "...                ...\n",
       "ThreSsnPorch  0.088407\n",
       "TotalBsmtSF   0.326293\n",
       "Utilities     0.045000\n",
       "WoodDeckSF    0.079119\n",
       "YearRemodAdd  0.081836\n",
       "\n",
       "[73 rows x 1 columns]"
      ]
     },
     "execution_count": 24,
     "metadata": {},
     "output_type": "execute_result"
    }
   ],
   "source": [
    "srt_ceoff_high = srt_coef_df[abs(srt_coef_df[1])>0.04]\n",
    "srt_ceoff_high = srt_ceoff_high.set_index(0)\n",
    "srt_ceoff_high"
   ]
  },
  {
   "cell_type": "code",
   "execution_count": 25,
   "metadata": {},
   "outputs": [],
   "source": [
    "matplotlib.rc('figure', figsize=(15, 15))"
   ]
  },
  {
   "cell_type": "code",
   "execution_count": 26,
   "metadata": {},
   "outputs": [
    {
     "data": {
      "text/plain": [
       "<matplotlib.axes._subplots.AxesSubplot at 0x1a21afa090>"
      ]
     },
     "execution_count": 26,
     "metadata": {},
     "output_type": "execute_result"
    },
    {
     "data": {
      "image/png": "[encoded data removed]",
      "text/plain": [
       "<Figure size 1080x1080 with 1 Axes>"
      ]
     },
     "metadata": {},
     "output_type": "display_data"
    }
   ],
   "source": [
    "srt_coef_df=pd.DataFrame(srt_coef)\n",
    "plt.style.use('ggplot')\n",
    "srt_ceoff_high.sort_values(ascending=False, by = 1).plot.barh(color='b')"
   ]
  },
  {
   "cell_type": "code",
   "execution_count": 27,
   "metadata": {},
   "outputs": [],
   "source": [
    "matplotlib.rc('figure', figsize=(6, 6))"
   ]
  },
  {
   "cell_type": "markdown",
   "metadata": {},
   "source": [
    "plot the fitted price vs actual price, notice the exp to get an actual price, not a log"
   ]
  },
  {
   "cell_type": "code",
   "execution_count": 28,
   "metadata": {},
   "outputs": [
    {
     "data": {
      "text/plain": [
       "<matplotlib.collections.PathCollection at 0x1a21a3e710>"
      ]
     },
     "execution_count": 28,
     "metadata": {},
     "output_type": "execute_result"
    },
    {
     "data": {
      "image/png": "[encoded data removed]",
      "text/plain": [
       "<Figure size 432x432 with 1 Axes>"
      ]
     },
     "metadata": {},
     "output_type": "display_data"
    }
   ],
   "source": [
    "plt.scatter(np.exp(svr.predict(x_testcv)), np.exp(y_testcv))"
   ]
  },
  {
   "cell_type": "markdown",
   "metadata": {},
   "source": [
    "plot the prediction from the validated parameters against the y_train.  There are a couple of "
   ]
  },
  {
   "cell_type": "code",
   "execution_count": 29,
   "metadata": {},
   "outputs": [
    {
     "data": {
      "text/plain": [
       "<matplotlib.collections.PathCollection at 0x1a21128950>"
      ]
     },
     "execution_count": 29,
     "metadata": {},
     "output_type": "execute_result"
    },
    {
     "data": {
      "image/png": "[encoded data removed]",
      "text/plain": [
       "<Figure size 432x432 with 1 Axes>"
      ]
     },
     "metadata": {},
     "output_type": "display_data"
    }
   ],
   "source": [
    "plt.scatter(np.exp(svr.predict(x_scaled)),y_train)"
   ]
  },
  {
   "cell_type": "markdown",
   "metadata": {},
   "source": [
    "plot the test residuals vs the log of the fitted price"
   ]
  },
  {
   "cell_type": "code",
   "execution_count": 30,
   "metadata": {},
   "outputs": [
    {
     "data": {
      "text/plain": [
       "Text(0, 0.5, 'test residual')"
      ]
     },
     "execution_count": 30,
     "metadata": {},
     "output_type": "execute_result"
    },
    {
     "data": {
      "image/png": "[encoded data removed]",
      "text/plain": [
       "<Figure size 432x432 with 1 Axes>"
      ]
     },
     "metadata": {},
     "output_type": "display_data"
    }
   ],
   "source": [
    "residtest = svr.predict(x_testcv)-y_testcv\n",
    "plt.scatter(svr.predict(x_testcv), residtest)\n",
    "plt.xlabel('fit')\n",
    "plt.ylabel('test residual')"
   ]
  },
  {
   "cell_type": "markdown",
   "metadata": {},
   "source": [
    "see a little rightward skew of some outliers, but not terrible"
   ]
  },
  {
   "cell_type": "code",
   "execution_count": 31,
   "metadata": {},
   "outputs": [
    {
     "data": {
      "text/plain": [
       "(array([  3.,   6.,  40., 119.,  81.,  33.,   8.,   1.,   0.,   1.]),\n",
       " array([-0.42170424, -0.31455532, -0.2074064 , -0.10025748,  0.00689144,\n",
       "         0.11404036,  0.22118928,  0.3283382 ,  0.43548712,  0.54263604,\n",
       "         0.64978496]),\n",
       " <a list of 10 Patch objects>)"
      ]
     },
     "execution_count": 31,
     "metadata": {},
     "output_type": "execute_result"
    },
    {
     "data": {
      "image/png": "[encoded data removed]",
      "text/plain": [
       "<Figure size 432x432 with 1 Axes>"
      ]
     },
     "metadata": {},
     "output_type": "display_data"
    }
   ],
   "source": [
    "plt.hist(residtest)"
   ]
  },
  {
   "cell_type": "markdown",
   "metadata": {},
   "source": [
    "plot the train residuals, again notice outliers"
   ]
  },
  {
   "cell_type": "code",
   "execution_count": 32,
   "metadata": {},
   "outputs": [
    {
     "data": {
      "text/plain": [
       "Text(0, 0.5, 'train residual')"
      ]
     },
     "execution_count": 32,
     "metadata": {},
     "output_type": "execute_result"
    },
    {
     "data": {
      "image/png": "[encoded data removed]",
      "text/plain": [
       "<Figure size 432x432 with 1 Axes>"
      ]
     },
     "metadata": {},
     "output_type": "display_data"
    }
   ],
   "source": [
    "residtrain = svr.predict(x_traincv)-y_traincv\n",
    "plt.scatter(svr.predict(x_traincv), residtrain)\n",
    "plt.xlabel('fit')\n",
    "plt.ylabel('train residual')"
   ]
  },
  {
   "cell_type": "code",
   "execution_count": 33,
   "metadata": {},
   "outputs": [
    {
     "data": {
      "text/plain": [
       "(array([ 86., 930., 138.,   5.,   7.,   0.,   1.,   0.,   0.,   1.]),\n",
       " array([-0.38821207, -0.14269612,  0.10281983,  0.34833578,  0.59385173,\n",
       "         0.83936769,  1.08488364,  1.33039959,  1.57591554,  1.82143149,\n",
       "         2.06694744]),\n",
       " <a list of 10 Patch objects>)"
      ]
     },
     "execution_count": 33,
     "metadata": {},
     "output_type": "execute_result"
    },
    {
     "data": {
      "image/png": "[encoded data removed]",
      "text/plain": [
       "<Figure size 432x432 with 1 Axes>"
      ]
     },
     "metadata": {},
     "output_type": "display_data"
    }
   ],
   "source": [
    "plt.hist(residtrain)"
   ]
  },
  {
   "cell_type": "markdown",
   "metadata": {},
   "source": [
    "take a look at any autocorrelation in training residuals"
   ]
  },
  {
   "cell_type": "code",
   "execution_count": 34,
   "metadata": {},
   "outputs": [
    {
     "data": {
      "text/plain": [
       "<matplotlib.collections.PathCollection at 0x1a23972810>"
      ]
     },
     "execution_count": 34,
     "metadata": {},
     "output_type": "execute_result"
    },
    {
     "data": {
      "image/png": "[encoded data removed]",
      "text/plain": [
       "<Figure size 432x432 with 1 Axes>"
      ]
     },
     "metadata": {},
     "output_type": "display_data"
    }
   ],
   "source": [
    "plt.scatter(range(len(residtrain)), residtrain)"
   ]
  },
  {
   "cell_type": "markdown",
   "metadata": {},
   "source": [
    "same for test residuals"
   ]
  },
  {
   "cell_type": "code",
   "execution_count": 35,
   "metadata": {},
   "outputs": [
    {
     "data": {
      "text/plain": [
       "<matplotlib.collections.PathCollection at 0x1a239e6950>"
      ]
     },
     "execution_count": 35,
     "metadata": {},
     "output_type": "execute_result"
    },
    {
     "data": {
      "image/png": "[encoded data removed]",
      "text/plain": [
       "<Figure size 432x432 with 1 Axes>"
      ]
     },
     "metadata": {},
     "output_type": "display_data"
    }
   ],
   "source": [
    "plt.scatter(range(len(residtest)), residtest)"
   ]
  },
  {
   "cell_type": "markdown",
   "metadata": {},
   "source": [
    "look at effect of C and epsilon on r2 for train and test"
   ]
  },
  {
   "cell_type": "code",
   "execution_count": 62,
   "metadata": {},
   "outputs": [
    {
     "data": {
      "text/plain": [
       "<matplotlib.legend.Legend at 0x1a2002f4d0>"
      ]
     },
     "execution_count": 62,
     "metadata": {},
     "output_type": "execute_result"
    },
    {
     "data": {
      "image/png": "[encoded data removed]",
      "text/plain": [
       "<Figure size 432x432 with 1 Axes>"
      ]
     },
     "metadata": {},
     "output_type": "display_data"
    }
   ],
   "source": [
    "Cs = np.linspace(0.035,0.075,10)\n",
    "trn_scor=[]\n",
    "tst_scor=[]\n",
    "for C in Cs:\n",
    "    svr.set_params(C= C, epsilon = 0.06, kernel = 'linear')\n",
    "    svr.fit(x_traincv,y_traincv)\n",
    "    trn_scor.append(svr.score(x_traincv,y_traincv))\n",
    "    tst_scor.append(svr.score(x_testcv,y_testcv))\n",
    "plt.plot(Cs,trn_scor,label='train')\n",
    "plt.plot(Cs,tst_scor,label='test')\n",
    "plt.legend(loc=9)"
   ]
  },
  {
   "cell_type": "code",
   "execution_count": 63,
   "metadata": {},
   "outputs": [
    {
     "data": {
      "text/plain": [
       "<matplotlib.legend.Legend at 0x1a201c3ed0>"
      ]
     },
     "execution_count": 63,
     "metadata": {},
     "output_type": "execute_result"
    },
    {
     "data": {
      "image/png": "[encoded data removed]",
      "text/plain": [
       "<Figure size 432x432 with 1 Axes>"
      ]
     },
     "metadata": {},
     "output_type": "display_data"
    }
   ],
   "source": [
    "epsilons = np.linspace(0.045,0.075,10)\n",
    "trn_scor=[]\n",
    "tst_scor=[]\n",
    "for epsilon in epsilons:\n",
    "    svr.set_params(C= 0.045, epsilon = epsilon, kernel = 'linear')\n",
    "    svr.fit(x_traincv,y_traincv)\n",
    "    trn_scor.append(svr.score(x_traincv,y_traincv))\n",
    "    tst_scor.append(svr.score(x_testcv,y_testcv))\n",
    "plt.plot(epsilons,trn_scor,label='train')\n",
    "plt.plot(epsilons,tst_scor,label='test')\n",
    "plt.legend(loc=9)"
   ]
  },
  {
   "cell_type": "code",
   "execution_count": 65,
   "metadata": {},
   "outputs": [
    {
     "data": {
      "text/plain": [
       "<matplotlib.collections.PathCollection at 0x1a203b1610>"
      ]
     },
     "execution_count": 65,
     "metadata": {},
     "output_type": "execute_result"
    },
    {
     "data": {
      "image/png": "[encoded data removed]",
      "text/plain": [
       "<Figure size 432x432 with 1 Axes>"
      ]
     },
     "metadata": {},
     "output_type": "display_data"
    }
   ],
   "source": [
    "plt.scatter(train['GrLivArea'],np.exp(svr.predict(x_scaled)))\n",
    "plt.scatter(sub['GrLivArea'],np.exp(svr.predict(x_sub_scaled)))"
   ]
  },
  {
   "cell_type": "markdown",
   "metadata": {},
   "source": [
    "put scale factor (1/(Max-Min)) for each feature with the feature name and the coefficient."
   ]
  },
  {
   "cell_type": "code",
   "execution_count": 17,
   "metadata": {},
   "outputs": [
    {
     "data": {
      "text/plain": [
       "{'LotFrontage': [0.10637835880938935, 0.003424657534246575],\n",
       " 'LotArea': [0.18164603661033868, 4.674098483255042e-06],\n",
       " 'LotShape': [-0.016566767610054385, 0.06666666666666667],\n",
       " 'Utilities': [0.04500000000000037, 0.08333333333333333],\n",
       " 'LandSlope': [0.005350235849479301, 0.125],\n",
       " 'OverallCond': [0.14925697731247398, 0.0125],\n",
       " 'YearRemodAdd': [0.08766295145059577, 0.016666666666666666],\n",
       " 'MasVnrArea': [0.09379810680961624, 0.000625],\n",
       " 'ExterQual': [0.05745999684065162, 0.047619047619047616],\n",
       " 'ExterCond': [-0.030814132270400446, 0.041666666666666664],\n",
       " 'BsmtQual': [0.16297870088715205, 0.02857142857142857],\n",
       " 'BsmtCond': [-0.0011443171843726618, 0.041666666666666664],\n",
       " 'BsmtExposure': [0.10313449204773352, 0.041666666666666664],\n",
       " 'BsmtFinType1': [0.048367687839916074, 0.020833333333333332],\n",
       " 'BsmtFinSF1': [0.2845546484182367, 0.00017717930545712261],\n",
       " 'BsmtFinSF2': [0.0933835069326591, 0.0006784260515603799],\n",
       " 'BsmtUnfSF': [0.09562277801955674, 0.0004280821917808219],\n",
       " 'TotalBsmtSF': [0.32193920365711176, 0.00016366612111292964],\n",
       " 'Electrical': [-0.009008194268300185, 0.06666666666666667],\n",
       " 'SecndFlrSF': [0.11417933592184965, 0.00048426150121065375],\n",
       " 'LowQualFinSF': [-0.012334981028666675, 0.0017482517482517483],\n",
       " 'GrLivArea': [0.5206913872463526, 0.00018839487565938207],\n",
       " 'BsmtFullBath': [0.10740157049084761, 0.3333333333333333],\n",
       " 'BsmtHalfBath': [-0.015669365325403986, 0.5],\n",
       " 'FullBath': [0.20714705240212306, 0.3333333333333333],\n",
       " 'HalfBath': [0.07889674189440604, 0.5],\n",
       " 'BedroomAbvGr': [0.16265767328399264, 0.125],\n",
       " 'KitchenAbvGr': [-0.07739222849837318, 0.3333333333333333],\n",
       " 'KitchenQual': [0.11632754421145955, 0.037037037037037035],\n",
       " 'Functional': [0.14476994392527198, 0.016666666666666666],\n",
       " 'FireplaceQu': [0.12371522977723373, 0.02857142857142857],\n",
       " 'GarageFinish': [0.039993174047452396, 0.06666666666666667],\n",
       " 'GarageArea': [0.2371946386472499, 0.0007052186177715092],\n",
       " 'GarageQual': [0.09893859479576719, 0.02857142857142857],\n",
       " 'PavedDrive': [0.03638897231205285, 0.125],\n",
       " 'WoodDeckSF': [0.07958539511849422, 0.0011668611435239206],\n",
       " 'OpenPorchSF': [0.0990016717216053, 0.0018281535648994515],\n",
       " 'EnclosedPorch': [0.07272705046241738, 0.0018115942028985507],\n",
       " 'ThreSsnPorch': [0.08148988353844061, 0.001968503937007874],\n",
       " 'ScreenPorch': [0.09892223817088087, 0.0020833333333333333],\n",
       " 'PoolQC': [0.07629422455164177, 0.041666666666666664],\n",
       " 'Fence': [-0.003315270853794211, 0.125],\n",
       " 'MiscVal': [0.02674273396670211, 6.451612903225807e-05],\n",
       " 'MoSold': [0.006334134567344496, 0.09090909090909091],\n",
       " 'YrSold': [-0.01868810281527733, 0.25],\n",
       " 'MSZoning_C': [-0.045, 1.0],\n",
       " 'MSZoning_FV': [0.0391150315161216, 1.0],\n",
       " 'MSZoning_I': [-0.135, 1.0],\n",
       " 'MSZoning_RH': [0.04888186148455896, 1.0],\n",
       " 'MSZoning_RL': [0.09695058026637843, 1.0],\n",
       " 'MSZoning_RM': [-0.004947473267058522, 1.0],\n",
       " 'MSZoning_RP': [0.0, 1.0],\n",
       " 'Street_Pave': [0.047729816684840165, 1.0],\n",
       " 'Alley_NA': [0.012378156245017813, 1.0],\n",
       " 'Alley_Pave': [4.5716709190304905e-05, 1.0],\n",
       " 'LandContour_HLS': [0.01722528239479576, 1.0],\n",
       " 'LandContour_Low': [-0.025085696611448827, 1.0],\n",
       " 'LandContour_Lvl': [-0.001357096889904208, 1.0],\n",
       " 'LotConfig_CulDSac': [0.03395561758494771, 1.0],\n",
       " 'LotConfig_FR2': [-0.053752389512438756, 1.0],\n",
       " 'LotConfig_FR3': [-0.01449353596691004, 1.0],\n",
       " 'LotConfig_Inside': [-0.012772620069297191, 1.0],\n",
       " 'Neighborhood_Blueste': [0.00887168268603443, 1.0],\n",
       " 'Neighborhood_BrDale': [-0.023176810646079505, 1.0],\n",
       " 'Neighborhood_BrkSide': [0.0357002625483849, 1.0],\n",
       " 'Neighborhood_ClearCr': [0.022412536407523942, 1.0],\n",
       " 'Neighborhood_CollgCr': [-0.027183533044701697, 1.0],\n",
       " 'Neighborhood_Crawfor': [0.10542572995288504, 1.0],\n",
       " 'Neighborhood_Edwards': [-0.0639018154354825, 1.0],\n",
       " 'Neighborhood_Gilbert': [-0.05253256243447159, 1.0],\n",
       " 'Neighborhood_IDOTRR': [-0.053302925944771984, 1.0],\n",
       " 'Neighborhood_MeadowV': [-0.18932268775159555, 1.0],\n",
       " 'Neighborhood_Mitchel': [-0.028655455572607777, 1.0],\n",
       " 'Neighborhood_NPkVill': [-0.015534986578150816, 1.0],\n",
       " 'Neighborhood_NWAmes': [0.01697351128877468, 1.0],\n",
       " 'Neighborhood_Names': [0.007560378427684697, 1.0],\n",
       " 'Neighborhood_NoRidge': [0.058137926749839225, 1.0],\n",
       " 'Neighborhood_NridgHt': [0.042238698516987486, 1.0],\n",
       " 'Neighborhood_OldTown': [-0.00885986518531695, 1.0],\n",
       " 'Neighborhood_SWISU': [-0.02909028358624413, 1.0],\n",
       " 'Neighborhood_Sawyer': [0.0012481487865414753, 1.0],\n",
       " 'Neighborhood_SawyerW': [-0.004191333925657001, 1.0],\n",
       " 'Neighborhood_Somerst': [0.05776214990603634, 1.0],\n",
       " 'Neighborhood_StoneBr': [0.07424480659063026, 1.0],\n",
       " 'Neighborhood_Timber': [-0.019141376190554796, 1.0],\n",
       " 'Neighborhood_Veenker': [0.03931780443431173, 1.0],\n",
       " 'Condition1_Feedr': [-0.008720987051272333, 1.0],\n",
       " 'Condition1_Norm': [0.046557698319259544, 1.0],\n",
       " 'Condition1_PosA': [0.0, 1.0],\n",
       " 'Condition1_PosN': [0.030155146735195856, 1.0],\n",
       " 'Condition1_RRAe': [-0.003054976873660597, 1.0],\n",
       " 'Condition1_RRAn': [0.04894040348957877, 1.0],\n",
       " 'Condition1_RRNe': [-0.002292514543911499, 1.0],\n",
       " 'Condition1_RRNn': [-0.0019559010119217487, 1.0],\n",
       " 'Condition2_Feedr': [0.017104085857954573, 1.0],\n",
       " 'Condition2_Norm': [0.03774426012678744, 1.0],\n",
       " 'Condition2_PosA': [0.045, 1.0],\n",
       " 'Condition2_PosN': [-0.045, 1.0],\n",
       " 'Condition2_RRAe': [0.0, 1.0],\n",
       " 'Condition2_RRAn': [-0.009848345984741741, 1.0],\n",
       " 'Condition2_RRNn': [0.0, 1.0],\n",
       " 'RoofStyle_Gable': [-0.06421655663635176, 1.0],\n",
       " 'RoofStyle_Gambrel': [0.007696943616081364, 1.0],\n",
       " 'RoofStyle_Hip': [-0.02310184659915382, 1.0],\n",
       " 'RoofStyle_Mansard': [-0.015586680785565145, 1.0],\n",
       " 'RoofStyle_Shed': [0.045, 1.0],\n",
       " 'RoofMatl_CompShg': [-0.01958197340160525, 1.0],\n",
       " 'RoofMatl_Membran': [0.045, 1.0],\n",
       " 'RoofMatl_Metal': [0.005208140404989435, 1.0],\n",
       " 'RoofMatl_Roll': [-0.02277884875306186, 1.0],\n",
       " 'RoofMatl_Tar&Grv': [-0.03304104328782874, 1.0],\n",
       " 'RoofMatl_WdShake': [0.02519372503750665, 1.0],\n",
       " 'RoofMatl_WdShngl': [0.045, 1.0],\n",
       " 'Exterior1st_AsphShn': [0.0, 1.0],\n",
       " 'Exterior1st_BrkComm': [0.0, 1.0],\n",
       " 'Exterior1st_BrkFace': [0.1117836137540768, 1.0],\n",
       " 'Exterior1st_CBlock': [-0.045, 1.0],\n",
       " 'Exterior1st_CemntBd': [0.043360987025997416, 1.0],\n",
       " 'Exterior1st_HdBoard': [-0.007386708871083725, 1.0],\n",
       " 'Exterior1st_ImStucc': [0.045, 1.0],\n",
       " 'Exterior1st_MetalSd': [0.01806605333649676, 1.0],\n",
       " 'Exterior1st_Plywood': [0.01789538645707775, 1.0],\n",
       " 'Exterior1st_Stone': [0.04597931180823966, 1.0],\n",
       " 'Exterior1st_Stucco': [0.04917820298513775, 1.0],\n",
       " 'Exterior1st_VinylSd': [-0.026548240116559263, 1.0],\n",
       " 'Exterior1st_Wd Sdng': [-0.028889227494140704, 1.0],\n",
       " 'Exterior1st_WdShing': [-0.05908819001957409, 1.0],\n",
       " 'Exterior2nd_AsphShn': [-0.018510688145095818, 1.0],\n",
       " 'Exterior2nd_BrkComm': [-0.0018474956313572488, 1.0],\n",
       " 'Exterior2nd_BrkFace': [-0.018318573309490854, 1.0],\n",
       " 'Exterior2nd_CBlock': [-0.045, 1.0],\n",
       " 'Exterior2nd_CemntBd': [-0.0016367668387729933, 1.0],\n",
       " 'Exterior2nd_HdBoard': [-0.006626724691861818, 1.0],\n",
       " 'Exterior2nd_ImStucc': [-0.008302925944771979, 1.0],\n",
       " 'Exterior2nd_MetalSd': [-0.009190146623317588, 1.0],\n",
       " 'Exterior2nd_Other': [0.019756513504657618, 1.0],\n",
       " 'Exterior2nd_Plywood': [-0.017513161917245904, 1.0],\n",
       " 'Exterior2nd_PreCast': [0.0, 1.0],\n",
       " 'Exterior2nd_Stone': [0.0131691974669908, 1.0],\n",
       " 'Exterior2nd_Stucco': [0.007032300524091359, 1.0],\n",
       " 'Exterior2nd_VinylSd': [0.04788869119870143, 1.0],\n",
       " 'Exterior2nd_Wd Sdng': [0.025863802463403508, 1.0],\n",
       " 'Exterior2nd_WdShing': [0.019187976118727478, 1.0],\n",
       " 'MasVnrType_BrkFace': [0.01573850992992748, 1.0],\n",
       " 'MasVnrType_None': [0.00874527165413648, 1.0],\n",
       " 'MasVnrType_Stone': [0.04701553510804568, 1.0],\n",
       " 'Foundation_CBlock': [-0.008643878039311506, 1.0],\n",
       " 'Foundation_PConc': [0.030934756337634484, 1.0],\n",
       " 'Foundation_Slab': [0.007030040101884183, 1.0],\n",
       " 'Foundation_Stone': [-0.0015883904359263734, 1.0],\n",
       " 'Foundation_Wood': [-0.02530477865652632, 1.0],\n",
       " 'Heating_GasA': [0.009927565104126679, 1.0],\n",
       " 'Heating_GasW': [0.05196482244295656, 1.0],\n",
       " 'Heating_Grav': [-0.041892814444218995, 1.0],\n",
       " 'Heating_OthW': [0.03517478279778629, 1.0],\n",
       " 'Heating_Wall': [-0.010174355900650342, 1.0],\n",
       " 'HeatingQC_Fa': [-0.017627514582594914, 1.0],\n",
       " 'HeatingQC_Gd': [-0.026088703254425055, 1.0],\n",
       " 'HeatingQC_Po': [0.0, 1.0],\n",
       " 'HeatingQC_TA': [-0.026542402389713893, 1.0],\n",
       " 'CentralAir_Y': [0.1003411806580386, 1.0],\n",
       " 'MiscFeature_Gar2': [-0.002078127709230243, 1.0],\n",
       " 'MiscFeature_NA': [0.005194281643640386, 1.0],\n",
       " 'MiscFeature_Othr': [-0.012724258871717978, 1.0],\n",
       " 'MiscFeature_Shed': [0.018246857823023044, 1.0],\n",
       " 'MiscFeature_TenC': [0.006802121754675039, 1.0],\n",
       " 'SaleType_CWD': [0.0, 1.0],\n",
       " 'SaleType_Con': [0.045, 1.0],\n",
       " 'SaleType_ConLD': [0.045, 1.0],\n",
       " 'SaleType_ConLI': [-0.00609726532809577, 1.0],\n",
       " 'SaleType_ConLw': [-0.028173149421596135, 1.0],\n",
       " 'SaleType_New': [0.019545718999862155, 1.0],\n",
       " 'SaleType_Oth': [-0.00652129226935904, 1.0],\n",
       " 'SaleType_WD': [-0.019404263467358907, 1.0],\n",
       " 'SaleCondition_AdjLand': [0.045, 1.0],\n",
       " 'SaleCondition_Alloca': [0.09, 1.0],\n",
       " 'SaleCondition_Family': [0.019607406140213748, 1.0],\n",
       " 'SaleCondition_Normal': [0.0594299271183904, 1.0],\n",
       " 'SaleCondition_Partial': [0.06454571899986217, 1.0]}"
      ]
     },
     "execution_count": 17,
     "metadata": {},
     "output_type": "execute_result"
    }
   ],
   "source": [
    "scale_fctr=[]\n",
    "for i in range(x_train.shape[1]):\n",
    "    scale_fctr.append(1/(x_train.max(axis=0)[i]-x_train.min(axis=0)[i]))\n",
    "coefs_scl = list(zip(train.columns[train.columns!='SalePrice'],list(svr.coef_[0]),scale_fctr))\n",
    "coefs_dict = pd.DataFrame(coefs_scl).set_index(0).T.to_dict('list')\n",
    "coefs_dict"
   ]
  },
  {
   "cell_type": "markdown",
   "metadata": {},
   "source": [
    "Because we calculated the log of the sales price effects are multiplicative.  exp(Y + DeltaY) where a change in one of the coefficients creates a DeltaY, which is the same as multiplying exp(Y)exp(DeltaY).  So we will find the median price and assume that is the starting point for any changes.  We use the model to calculate the DeltaY from the scaled change in the parameter, raise that as a power of exp, then multiply the median price by the exp(DeltaY) and subtract the median price from that to get the increase due to the change in the parameter."
   ]
  },
  {
   "cell_type": "markdown",
   "metadata": {},
   "source": [
    "Median house price is $163,000:"
   ]
  },
  {
   "cell_type": "code",
   "execution_count": 37,
   "metadata": {},
   "outputs": [
    {
     "data": {
      "text/plain": [
       "163000.0"
      ]
     },
     "execution_count": 37,
     "metadata": {},
     "output_type": "execute_result"
    }
   ],
   "source": [
    "median_price = statistics.median(train['SalePrice'])\n",
    "median_price"
   ]
  },
  {
   "cell_type": "markdown",
   "metadata": {},
   "source": [
    "Add 500 sq ft (22 foot square) above grade would increase value by (coefficient * scaling factor * addition * price):"
   ]
  },
  {
   "cell_type": "code",
   "execution_count": 39,
   "metadata": {},
   "outputs": [
    {
     "name": "stdout",
     "output_type": "stream",
     "text": [
      "8140\n"
     ]
    }
   ],
   "source": [
    "print('%.0f' % (np.exp(coefs_dict['GrLivArea'][0]*coefs_dict['GrLivArea'][1]*500)*\\\n",
    "                median_price-median_price))"
   ]
  },
  {
   "cell_type": "markdown",
   "metadata": {},
   "source": [
    "Adding 200 sq ft of finished basement space (14 foot square) would increase value by:"
   ]
  },
  {
   "cell_type": "code",
   "execution_count": 41,
   "metadata": {},
   "outputs": [
    {
     "name": "stdout",
     "output_type": "stream",
     "text": [
      "1685\n"
     ]
    }
   ],
   "source": [
    "print('%.0f' % (np.exp(coefs_dict['BsmtFinSF1'][0]*coefs_dict['BsmtFinSF1'][1]*200)*\\\n",
    "                median_price-median_price))"
   ]
  },
  {
   "cell_type": "markdown",
   "metadata": {},
   "source": [
    "improving kitchen quality from Fair to Good quality would increase value by nearly $9000 but the [ may be comparable:](https://www.manta.com/cost-kitchen-remodeling-des-moines-ia)"
   ]
  },
  {
   "cell_type": "code",
   "execution_count": 42,
   "metadata": {},
   "outputs": [
    {
     "name": "stdout",
     "output_type": "stream",
     "text": [
      "8993\n"
     ]
    }
   ],
   "source": [
    "print('%.0f' % (np.exp(coefs_dict['KitchenQual'][0]*coefs_dict['KitchenQual'][1]*12)*\\\n",
    "                median_price-median_price))"
   ]
  },
  {
   "cell_type": "markdown",
   "metadata": {},
   "source": [
    "Adding a full bathroom would increase value by:"
   ]
  },
  {
   "cell_type": "code",
   "execution_count": 43,
   "metadata": {},
   "outputs": [
    {
     "name": "stdout",
     "output_type": "stream",
     "text": [
      "11570\n"
     ]
    }
   ],
   "source": [
    "print('%.0f' % (np.exp(coefs_dict['FullBath'][0]*coefs_dict['FullBath'][1]*1)*\\\n",
    "                median_price-median_price))"
   ]
  },
  {
   "cell_type": "markdown",
   "metadata": {},
   "source": [
    "An addition of 150 sq ft (12 foot square) on your garage would increase value by:"
   ]
  },
  {
   "cell_type": "code",
   "execution_count": 44,
   "metadata": {},
   "outputs": [
    {
     "name": "stdout",
     "output_type": "stream",
     "text": [
      "4237\n"
     ]
    }
   ],
   "source": [
    "print('%.0f' % (np.exp(coefs_dict['GarageArea'][0]*coefs_dict['GarageArea'][1]*150)*\\\n",
    "                median_price-median_price))"
   ]
  },
  {
   "cell_type": "markdown",
   "metadata": {},
   "source": [
    "improving the overall condition of the house (cleaning, repair, etc) from below average, 4, to above average, 6, would increase value by:"
   ]
  },
  {
   "cell_type": "code",
   "execution_count": 45,
   "metadata": {},
   "outputs": [
    {
     "name": "stdout",
     "output_type": "stream",
     "text": [
      "6075\n"
     ]
    }
   ],
   "source": [
    "print('%.0f' % (np.exp(coefs_dict['OverallCond'][0]*coefs_dict['OverallCond'][1]*(36-16))*\\\n",
    "                median_price-median_price))"
   ]
  },
  {
   "cell_type": "markdown",
   "metadata": {},
   "source": [
    "write out sale price predictions for submission set to a csv"
   ]
  },
  {
   "cell_type": "code",
   "execution_count": 14,
   "metadata": {},
   "outputs": [],
   "source": [
    "test_y_predict = np.exp(svr.predict(x_sub_scaled))"
   ]
  },
  {
   "cell_type": "code",
   "execution_count": 33,
   "metadata": {},
   "outputs": [],
   "source": [
    "import csv\n",
    "with open('coefs_dict.csv', 'w') as f:\n",
    "    for key in coefs_dict.keys():\n",
    "        f.write(\"%s,%f8,%f10\\n\"%(key,coefs_dict[key][0],coefs_dict[key][1]))"
   ]
  },
  {
   "cell_type": "code",
   "execution_count": 25,
   "metadata": {},
   "outputs": [],
   "source": [
    "np.savetxt(\"svr_ames_prediction.csv\", test_y_predict, delimiter=\",\")"
   ]
  },
  {
   "cell_type": "code",
   "execution_count": 39,
   "metadata": {},
   "outputs": [],
   "source": [
    "np.savetxt('svr_ames_prediction.csv', (range(1461,2920),test_y_predict), delimiter=',', header = 'ID, SalePrice')"
   ]
  },
  {
   "cell_type": "code",
   "execution_count": null,
   "metadata": {},
   "outputs": [],
   "source": []
  }
 ],
 "metadata": {
  "kernelspec": {
   "display_name": "Python 3",
   "language": "python",
   "name": "python3"
  },
  "language_info": {
   "codemirror_mode": {
    "name": "ipython",
    "version": 3
   },
   "file_extension": ".py",
   "mimetype": "text/x-python",
   "name": "python",
   "nbconvert_exporter": "python",
   "pygments_lexer": "ipython3",
   "version": "3.7.6"
  }
 },
 "nbformat": 4,
 "nbformat_minor": 4
}
